{
 "metadata": {
  "language_info": {
   "codemirror_mode": {
    "name": "ipython",
    "version": 3
   },
   "file_extension": ".py",
   "mimetype": "text/x-python",
   "name": "python",
   "nbconvert_exporter": "python",
   "pygments_lexer": "ipython3",
   "version": "3.9.4"
  },
  "orig_nbformat": 4,
  "kernelspec": {
   "name": "python3",
   "display_name": "Python 3.9.4 64-bit"
  },
  "interpreter": {
   "hash": "cfaa36bee6b23c52625142bf31ea28c3ad7325c971be2e267544e946147027d6"
  }
 },
 "nbformat": 4,
 "nbformat_minor": 2,
 "cells": [
  {
   "cell_type": "markdown",
   "source": [
    "<h2>Loop statements may have an else clause;</h2> \r\n",
    "<p>\r\n",
    "<font size=\"3\">\r\n",
    "It is executed when the loop terminates through exhaustion of the iterable (with for) or when the condition becomes false (with while), but not when the loop is terminated by a break statement.\r\n",
    "</font>\r\n",
    "</p>"
   ],
   "metadata": {}
  },
  {
   "cell_type": "code",
   "execution_count": null,
   "source": [
    "for n in range(2,10):\r\n",
    "    for x in range(2,n):\r\n",
    "        if n%x==0:\r\n",
    "            print(n, \"equals\", x, '*', n//x)\r\n",
    "            break\r\n",
    "    else:\r\n",
    "        #loop fell through without finding a factor\r\n",
    "        print(n, \"is a prime number\")"
   ],
   "outputs": [],
   "metadata": {}
  },
  {
   "cell_type": "code",
   "execution_count": 15,
   "source": [
    "def fib(n):\r\n",
    "    \"\"\"Print a fibonacci series upto n\"\"\"\r\n",
    "    a,b=0,1\r\n",
    "    while a<n:\r\n",
    "        print(a, end=' ')\r\n",
    "        a,b=b,a+b  #The fact that this works shows that the RHS is first evaluated and then the equality is evaluated\r\n",
    "    print()\r\n",
    "fib(2000)\r\n",
    "fib\r\n",
    "print(fib(0))\r\n",
    "\r\n",
    "def fib2(n):\r\n",
    "    \"\"\"Return a list containing the fibonacci series upto n. This is a\r\n",
    "    documentation string. It doesn't do anything.\r\n",
    "    \"\"\"\r\n",
    "    result=[]\r\n",
    "    a,b=0,1\r\n",
    "    while a<n:\r\n",
    "        result.append(a)\r\n",
    "        a,b=b,a+b\r\n",
    "    return result\r\n",
    "print(\"fib2(n):\", fib2(100))\r\n",
    "f=fib2\r\n",
    "print(\"where did we print this\")\r\n",
    "print(fib2(0))"
   ],
   "outputs": [
    {
     "output_type": "stream",
     "name": "stdout",
     "text": [
      "0 1 1 2 3 5 8 13 21 34 55 89 144 233 377 610 987 1597 \n",
      "\n",
      "None\n",
      "fib2(n): [0, 1, 1, 2, 3, 5, 8, 13, 21, 34, 55, 89]\n",
      "where did we print this\n",
      "[]\n"
     ]
    }
   ],
   "metadata": {}
  },
  {
   "cell_type": "code",
   "execution_count": null,
   "source": [
    "def ask_ok(prompt, retries=4, reminder='Please try again!'):\r\n",
    "    while True:\r\n",
    "        ok=input(prompt)\r\n",
    "        if ok in ('y', 'yea', 'yes', 'yeah'):\r\n",
    "            return True\r\n",
    "        elif ok in ('n', 'no', 'nop', 'nope'):\r\n",
    "            return False\r\n",
    "        retries=retries-1\r\n",
    "        if retries<0:\r\n",
    "            raise ValueError('Invalid user response')\r\n",
    "        print(reminder)\r\n",
    "\r\n",
    "ask_ok('Are you sure?')\r\n",
    "ask_ok('Are you sure?', 2)\r\n",
    "ask_ok('Are you sure?', 3, \"Nah you're not sure\")"
   ],
   "outputs": [],
   "metadata": {}
  },
  {
   "cell_type": "code",
   "execution_count": 3,
   "source": [
    "# The default values are evaluated at the point of function definition\r\n",
    "# in the defining scope, so that (check output)\r\n",
    "\r\n",
    "i=5\r\n",
    "def f(arg=i):\r\n",
    "    print(arg)\r\n",
    "\r\n",
    "i=6\r\n",
    "f()\r\n",
    "f(i)\r\n",
    "\r\n",
    "#\r\n",
    "\r\n",
    "# Important warning: The default value is evaluated only once.\r\n",
    "# This makes a difference when the default is a mutable object\r\n",
    "# such as a list, dictionary, or instances of most classes.\r\n",
    "# For example, the following function accumulates the arguments passed\r\n",
    "# to it on subsequent calls:\r\n",
    "\r\n",
    "def f(a, L=[]):\r\n",
    "    print(L)\r\n",
    "    L.append(a)\r\n",
    "    return L\r\n",
    "print(f(1))\r\n",
    "print(f(2, [88,9]))\r\n",
    "print(f(3))\r\n",
    "\r\n",
    "\r\n",
    "def f1(a, L=None):\r\n",
    "    \"\"\"If you don't want the default to be shared between\r\n",
    "    subsequent calls, you can write the function like this instead:\"\"\"\r\n",
    "    print(L)\r\n",
    "    if L is None:\r\n",
    "        L=[]\r\n",
    "    L.append(a)\r\n",
    "    return L\r\n",
    "print(f1(1))\r\n",
    "print(f1(2))\r\n",
    "print(f1(3))\r\n"
   ],
   "outputs": [
    {
     "output_type": "stream",
     "name": "stdout",
     "text": [
      "5\n",
      "6\n",
      "[]\n",
      "[1]\n",
      "[88, 9]\n",
      "[88, 9, 2]\n",
      "[1]\n",
      "[1, 3]\n",
      "None\n",
      "[1]\n",
      "None\n",
      "[2]\n",
      "None\n",
      "[3]\n"
     ]
    }
   ],
   "metadata": {}
  },
  {
   "cell_type": "markdown",
   "source": [
    "<h2>*args and **kwargs</h2>\r\n",
    "\r\n",
    "<p>\r\n",
    "<font size=\"3\">\r\n",
    "When a final formal parameter of the form **name is present, it receives a dictionary (see Mapping Types — dict) containing all keyword arguments except for those corresponding to a formal parameter.<br>\r\n",
    "This may be combined with a formal parameter of the form *name (described in the next subsection) which receives a tuple containing the positional arguments beyond the formal parameter list. (*name must occur before **name.) For example, if we define a function like this:\r\n",
    "</font>\r\n",
    "</h3>"
   ],
   "metadata": {}
  },
  {
   "cell_type": "code",
   "execution_count": 34,
   "source": [
    "def cheeseshop(kind, *arguments, **keywords):\r\n",
    "    print(\"--Do you have any\", kind, \"?\")\r\n",
    "    print(\"--I'm sorry, we're all out of\", kind)\r\n",
    "    for arg in arguments:\r\n",
    "        print(arg)\r\n",
    "    print(\"-\"*40)\r\n",
    "    for kw in keywords:\r\n",
    "        print(kw, \":\", keywords[kw])\r\n",
    "\r\n",
    "cheeseshop(\"Limburger\", \"It's very runny, sir.\",\r\n",
    "            \"It's really very, VERY runny, sir.\",\r\n",
    "            \"I don't know how it can be so runny sir\",\r\n",
    "            shopkeeper=\"Michel Palin\",\r\n",
    "            client=\"John Cleese\",\r\n",
    "            sketch=\"Cheese Shopt Sketch\"\r\n",
    "            )"
   ],
   "outputs": [
    {
     "output_type": "stream",
     "name": "stdout",
     "text": [
      "--Do you have any Limburger ?\n",
      "--I'm sorry, we're all out of Limburger\n",
      "It's very runny, sir.\n",
      "It's really very, VERY runny, sir.\n",
      "I don't know how it can be so runny sir\n",
      "----------------------------------------\n",
      "shopkeeper : Michel Palin\n",
      "client : John Cleese\n",
      "sketch : Cheese Shopt Sketch\n"
     ]
    }
   ],
   "metadata": {}
  },
  {
   "cell_type": "markdown",
   "source": [
    "<h2>Positional-only parameters are placed before a / (forward-slash).</h2>\r\n",
    "<p>\r\n",
    "<font size=\"3\">\r\n",
    "The / is used to logically separate the positional-only parameters\r\n",
    "from the rest of the parameters\r\n",
    "To mark parameters as keyword-only, indicating the parameters must be\r\n",
    "passed by keyword argument, place an * in the arguments list just before\r\n",
    "the first keyword-only parameter.\r\n",
    "</font>\r\n",
    "</p>"
   ],
   "metadata": {}
  },
  {
   "cell_type": "code",
   "execution_count": 32,
   "source": [
    "# def f(pos1, pos2, /, pos_or_kwd, *, kwd1, kwd2):\r\n",
    "#      -----------    ----------     ----------\r\n",
    "#        |             |                  |\r\n",
    "#        |        Positional or keyword   |\r\n",
    "#        |                                - Keyword only\r\n",
    "#         -- Positional only\r\n",
    "\r\n",
    "\r\n",
    "def f(pos1, pos2, /, pos3, *, kwd1, kwd2):\r\n",
    "    print(pos1,pos2)\r\n",
    "    print(pos3)\r\n",
    "    print(kwd1, kwd2)\r\n",
    "\r\n",
    "print(\"Using according to rules of parameter restrictions with '/' and '*':\")\r\n",
    "f(\"Absoluto\", \"torpedo\", pos3=\"abc\", kwd1=\"aannw\", kwd2=\"Pefecto\")\r\n",
    "\r\n",
    "print(\"Not obeying rules of parameter restrictions with '/' and '*':\")\r\n",
    "#Trying to use positional only argument as keyword argument:\r\n",
    "#f(\"Absoluto\", pos2=\"torpedo\", pos3=\"abc\", kwd1=\"aannw\", kwd2=\"Pefecto\")\r\n",
    "\r\n",
    "# Finally, consider this function definition which has a potential collision\r\n",
    "# between the positional argument name and **kwds which has name as a key:\r\n",
    "\r\n",
    "#def foo(name, **kwds):\r\n",
    "#    return 'name' in kwds\r\n",
    "\r\n",
    "#foo(1, **{'name':2})\r\n",
    "\r\n",
    "def foo(name, /, **kwds):\r\n",
    "    return 'name' in kwds\r\n",
    "\r\n",
    "foo(1, **{'name':2})"
   ],
   "outputs": [
    {
     "output_type": "stream",
     "name": "stdout",
     "text": [
      "Using according to rules of parameter restrictions with '/' and '*':\n",
      "Absoluto torpedo\n",
      "abc\n",
      "aannw Pefecto\n",
      "Not obeying rules of parameter restrictions with '/' and '*':\n"
     ]
    },
    {
     "output_type": "execute_result",
     "data": {
      "text/plain": [
       "True"
      ]
     },
     "metadata": {},
     "execution_count": 32
    }
   ],
   "metadata": {}
  },
  {
   "cell_type": "markdown",
   "source": [
    "<h2>Consider when the arguments are already in a list or tuple but need to be unpacked for a function call requiring separate positional arguments.</h2>\r\n",
    "<p><font size=3>\r\n",
    "For instance, the built-in range() function expects separate start and stop arguments.\r\n",
    "If they are not available separately, write the function call with the *-operator to unpack the arguments out of a list or tuple:\r\n",
    "</font></p>"
   ],
   "metadata": {}
  },
  {
   "cell_type": "code",
   "execution_count": 7,
   "source": [
    "print(list(range(3,6)))\r\n",
    "args=[3,6]\r\n",
    "print(list(range(*args)))\r\n",
    "\r\n",
    "def parrot(voltage, state='a stiff', action='voom'):\r\n",
    "    print(\"-- This parrot wouldn't\", action, end=' ')\r\n",
    "    print(\"if you put\", voltage, \"volts through it.\", end=' ')\r\n",
    "    print(\"E's\", state, \"!\")\r\n",
    "\r\n",
    "d={\"voltage\":\"four million\", \"state\":\"bleedin' demised\", \"action\":\"VOOM\"}\r\n",
    "parrot(**d)"
   ],
   "outputs": [
    {
     "output_type": "stream",
     "name": "stdout",
     "text": [
      "[3, 4, 5]\n",
      "[3, 4, 5]\n",
      "-- This parrot wouldn't VOOM if you put four million volts through it. E's bleedin' demised !\n"
     ]
    }
   ],
   "metadata": {}
  },
  {
   "cell_type": "markdown",
   "source": [
    "<h2>Lambda functions can be used wherever function objects are required.</h2>\r\n",
    "<p><font size=3>\r\n",
    "They are syntactically restricted to a single expression. Semantically, they are just syntactic sugar for a normal function definition. Like nested function definitions, lambda functions can reference variables from the containing scope.\r\n",
    "</font></p>"
   ],
   "metadata": {}
  },
  {
   "cell_type": "code",
   "execution_count": 25,
   "source": [
    "def make_incrementor(n):\r\n",
    "    return lambda x:x+n\r\n",
    "f=make_incrementor(42)\r\n",
    "print(f(0))\r\n",
    "print(f(1))\r\n",
    "print((make_incrementor(42))(2))\r\n",
    "type((make_incrementor(42))(2))\r\n",
    "\r\n",
    "pairs=[(1, 'one'), (2, 'two'), (3, 'three'), (4, 'four')]\r\n",
    "pairs.sort(key=lambda pair:pair[1])\r\n",
    "pairs\r\n",
    "        "
   ],
   "outputs": [
    {
     "output_type": "stream",
     "name": "stdout",
     "text": [
      "42\n",
      "43\n",
      "44\n"
     ]
    },
    {
     "output_type": "execute_result",
     "data": {
      "text/plain": [
       "[(4, 'four'), (1, 'one'), (3, 'three'), (2, 'two')]"
      ]
     },
     "metadata": {},
     "execution_count": 25
    }
   ],
   "metadata": {}
  },
  {
   "cell_type": "markdown",
   "source": [
    "<h2>Function docs and annotations</h2>"
   ],
   "metadata": {}
  },
  {
   "cell_type": "code",
   "execution_count": 38,
   "source": [
    "def my_func1():\r\n",
    "    \"\"\"Do nothing, but document it.\r\n",
    "    \r\n",
    "    No, really, it doesn't do anything.\r\n",
    "    \"\"\"\r\n",
    "    print(\"Hola companeros\")\r\n",
    "\r\n",
    "print(\"Function documentation using func_name.__doc__\")\r\n",
    "print(my_func1.__doc__)\r\n",
    "\r\n",
    "print(\"\\nFunction annotations using func_name.__annotations__\")\r\n",
    "def my_func2(ham: str, eggs:str='eggs') -> str:\r\n",
    "    print(\"Annotations:\", my_func2.__annotations__)\r\n",
    "    print(\"Arguments:\", ham, eggs)\r\n",
    "    return ham+' and '+eggs\r\n",
    "\r\n",
    "my_func2('spam')\r\n",
    "# pep 8 recommends limiting code to 79 characters per line,\r\n",
    "# comments and strings to 72 characters.\r\n",
    "print(' '*79+'1')"
   ],
   "outputs": [
    {
     "output_type": "stream",
     "name": "stdout",
     "text": [
      "Function documentation using func_name.__doc__\n",
      "Do nothing, but document it.\n",
      "    \n",
      "    No, really, it doesn't do anything.\n",
      "    \n",
      "\n",
      "Function annotations using func_name.__annotations__\n",
      "Annotations: {'ham': <class 'str'>, 'eggs': <class 'str'>, 'return': <class 'str'>}\n",
      "Arguments: spam eggs\n",
      "                                                                               1\n"
     ]
    }
   ],
   "metadata": {}
  },
  {
   "cell_type": "markdown",
   "source": [
    "<h2>PEP 8 Python Style Guide; some condensed recommendations:</h2>\r\n",
    "\r\n",
    "<p>\r\n",
    "<font size=3>\r\n",
    "For Python, PEP 8 has emerged as the style guide that most projects adhere to<br>\r\n",
    "it promotes a very readable and eye-pleasing coding style. Every Python<br>\r\n",
    "developer should read it at some point; here are the most important points<br> extracted for you:<br>\r\n",
    "<ul>\r\n",
    "<li>Use 4-space indentation, and no tabs.</li>\r\n",
    "\r\n",
    "4 spaces are a good compromise between small indentation (allows greater<br>\r\n",
    "nesting depth) and large indentation (easier to read). Tabs introduce<br> confusion, and are best left out.\r\n",
    "\r\n",
    "\r\n",
    "<li>Wrap lines so that they don’t exceed 79 characters.</li>\r\n",
    "\r\n",
    "This helps users with small displays and makes it possible to have<br>\r\n",
    "several code files side-by-side on larger displays.\r\n",
    "\r\n",
    "\r\n",
    "<li>Use blank lines to separate functions and classes, and larger blocks of code inside functions.\r\n",
    "</li>\r\n",
    "\r\n",
    "\r\n",
    "<li>When possible, put comments on a line of their own.</li>\r\n",
    "\r\n",
    "\r\n",
    "<li>Use docstrings.</li>\r\n",
    "\r\n",
    "\r\n",
    "<li>Use spaces around operators and after commas, but not<br>\r\n",
    "directly inside bracketing constructs: a = f(1, 2) + g(3, 4).\r\n",
    "</li>\r\n",
    "\r\n",
    "\r\n",
    "<li>Name your classes and functions consistently; the convention is to<br>\r\n",
    "use UpperCamelCase for classes and lowercase_with_underscores for<br>\r\n",
    "functions and methods.<br>\r\n",
    "Always use self as the name for the first method argument<br>\r\n",
    "(see A First Look at Classes for more on classes<br>\r\n",
    "and methods).\r\n",
    "</li>\r\n",
    "\r\n",
    "\r\n",
    "<li>Don’t use fancy encodings if your code is meant to be used in<br>\r\n",
    "international environments. Python’s default, UTF-8, or even plain<br>\r\n",
    "ASCII work best in any case.\r\n",
    "</li>\r\n",
    "\r\n",
    "\r\n",
    "<li>Likewise, don’t use non-ASCII characters in identifiers if there<br>\r\n",
    "is only the slightest chance people speaking a different language<br>\r\n",
    "will read or maintain the code.\r\n",
    "</li>\r\n",
    "</ul>\r\n",
    "</font>\r\n",
    "</p>"
   ],
   "metadata": {}
  },
  {
   "cell_type": "markdown",
   "source": [
    "<br>\r\n",
    "<br>\r\n",
    "<br>\r\n",
    "<h1>Data Structures</h1>"
   ],
   "metadata": {}
  },
  {
   "cell_type": "markdown",
   "source": [
    "<br>\r\n",
    "<br>\r\n",
    "<h2>More on Lists</h2>\r\n",
    "<p>\r\n",
    "<font size=3>\r\n",
    "list.append(x)\r\n",
    "<br>\r\n",
    "Add an item to the end of the list. Equivalent to a[len(a):] = [x].\r\n",
    "<br><br>\r\n",
    "list.extend(iterable)\r\n",
    "<br>\r\n",
    "Extend the list by appending all the items from the iterable.<br>\r\n",
    "Equivalent to a[len(a):] = iterable.\r\n",
    "<br><br>\r\n",
    "list.insert(i, x)\r\n",
    "<br>\r\n",
    "Insert an item at a given position. The first argument is the index<br>\r\n",
    "of the element before which to insert, so a.insert(0, x) inserts at<br>\r\n",
    "the front of the list, and a.insert(len(a), x) is equivalent to<br>\r\n",
    "a.append(x).\r\n",
    "<br><br>\r\n",
    "list.remove(x)\r\n",
    "<br>\r\n",
    "Remove the first item from the list whose value is equal to x.<br>\r\n",
    "It raises a ValueError if there is no such item.\r\n",
    "<br><br>\r\n",
    "list.pop([i])\r\n",
    "<br>\r\n",
    "Remove the item at the given position in the list, and return it.<br>\r\n",
    "If no index is specified, a.pop() removes and returns the last<br>\r\n",
    "item in the list. (The square brackets around the i in the method<br>\r\n",
    "signature denote that the parameter is optional, not that you should<br>\r\n",
    "type square brackets at that position. You will see this notation<br>\r\n",
    "frequently in the Python Library Reference.)\r\n",
    "<br><br>\r\n",
    "list.clear()\r\n",
    "<br>\r\n",
    "Remove all items from the list. Equivalent to del a[:].\r\n",
    "<br><br>\r\n",
    "list.index(x[, start[, end]])\r\n",
    "<br>\r\n",
    "Return zero-based index in the list of the first item whose value <br>\r\n",
    "equal to x. Raises a ValueError if there is no such item.\r\n",
    "\r\n",
    "The optional arguments start and end are interpreted as in the<br>\r\n",
    "slice notation and are used to limit the search to a particular<br>\r\n",
    "subsequence of the list. The returned index is computed relative<br>\r\n",
    "to the beginning of the full sequence rather than the start argument.\r\n",
    "<br><br>\r\n",
    "list.count(x)\r\n",
    "<br>\r\n",
    "Return the number of times x appears in the list.\r\n",
    "<br><br>\r\n",
    "list.sort(*, key=None, reverse=False)\r\n",
    "<br>\r\n",
    "Sort the items of the list in place (the arguments can be used for<br>\r\n",
    "sort customization, see sorted() for their explanation).\r\n",
    "<br><br>\r\n",
    "list.reverse()\r\n",
    "<br>\r\n",
    "Reverse the elements of the list in place.\r\n",
    "<br><br>\r\n",
    "list.copy()\r\n",
    "<br>\r\n",
    "Return a shallow copy of the list. Equivalent to a[:].\r\n",
    "<br><br>\r\n",
    "</font>\r\n",
    "</p>"
   ],
   "metadata": {}
  },
  {
   "cell_type": "code",
   "execution_count": 44,
   "source": [
    "fruits = ['orange', 'apple', 'pear', 'banana', 'kiwi', 'apple', 'banana']\r\n",
    "print(fruits.count('apple'))\r\n",
    "print(fruits.count('tangerine'))\r\n",
    "print(fruits.index('banana', 4))  # Find next banana starting a position 4\r\n",
    "print(fruits.reverse())\r\n",
    "print(fruits)\r\n",
    "# ['banana', 'apple', 'kiwi', 'banana', 'pear', 'apple', 'orange']\r\n",
    "print(fruits.append('grape'))\r\n",
    "print(fruits)\r\n",
    "# ['banana', 'apple', 'kiwi', 'banana', 'pear', 'apple', 'orange', 'grape']\r\n",
    "fruits.sort()\r\n",
    "print(fruits)\r\n",
    "# ['apple', 'apple', 'banana', 'banana', 'grape', 'kiwi', 'orange', 'pear']\r\n",
    "fruits.pop()\r\n",
    "print(fruits)"
   ],
   "outputs": [
    {
     "output_type": "stream",
     "name": "stdout",
     "text": [
      "2\n",
      "0\n",
      "6\n",
      "None\n",
      "['banana', 'apple', 'kiwi', 'banana', 'pear', 'apple', 'orange']\n",
      "None\n",
      "['banana', 'apple', 'kiwi', 'banana', 'pear', 'apple', 'orange', 'grape']\n",
      "['apple', 'apple', 'banana', 'banana', 'grape', 'kiwi', 'orange', 'pear']\n",
      "['apple', 'apple', 'banana', 'banana', 'grape', 'kiwi', 'orange']\n"
     ]
    }
   ],
   "metadata": {}
  },
  {
   "cell_type": "markdown",
   "source": [
    "<h2>Lists can be used as stacks using the append() and pop()\r\n",
    "functions which are suited to this\r\n",
    "</h2>"
   ],
   "metadata": {}
  },
  {
   "cell_type": "markdown",
   "source": [
    "<h2>Queues</h2>\r\n",
    "<p>\r\n",
    "<font size=3>\r\n",
    "While appends and pops from the end of list are fast, doing inserts<br>\r\n",
    "and pops ffrom beginning of a list is slow (because all of the other<br>\r\n",
    "elements have to be shifted one by one)\r\n",
    "<br><br>\r\n",
    "To implement a queue use <strong>collections.deque</strong> which was<br>\r\n",
    "designed to have fast appends and pops from both ends. For example:\r\n",
    "</font>\r\n",
    "</p>"
   ],
   "metadata": {}
  },
  {
   "cell_type": "code",
   "execution_count": 47,
   "source": [
    "from collections import deque\r\n",
    "queue = deque([\"Eric\", \"John\", \"Michael\"])\r\n",
    "queue.append(\"Terry\")\r\n",
    "queue.append(\"Graham\")\r\n",
    "print(queue)\r\n",
    "print(queue.popleft())\r\n",
    "print(queue.popleft())\r\n",
    "queue"
   ],
   "outputs": [
    {
     "output_type": "stream",
     "name": "stdout",
     "text": [
      "deque(['Eric', 'John', 'Michael', 'Terry', 'Graham'])\n",
      "Eric\n",
      "John\n"
     ]
    },
    {
     "output_type": "execute_result",
     "data": {
      "text/plain": [
       "deque(['Michael', 'Terry', 'Graham'])"
      ]
     },
     "metadata": {},
     "execution_count": 47
    }
   ],
   "metadata": {}
  }
 ]
}