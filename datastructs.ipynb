{
 "cells": [
  {
   "cell_type": "markdown",
   "source": [
    "<br>\r\n",
    "<br>\r\n",
    "<br>\r\n",
    "<h1>Data Structures</h1>"
   ],
   "metadata": {}
  },
  {
   "cell_type": "markdown",
   "source": [
    "<br>\r\n",
    "<br>\r\n",
    "<h2>More on Lists</h2>\r\n",
    "<div style=\"font-size: 15px\">\r\n",
    "list.append(x)\r\n",
    "<br>\r\n",
    "Add an item to the end of the list. Equivalent to a[len(a):] = [x].\r\n",
    "<br><br>\r\n",
    "list.extend(iterable)\r\n",
    "<br>\r\n",
    "Extend the list by appending all the items from the iterable. Equivalent to a[len(a):] = iterable.\r\n",
    "<br><br>\r\n",
    "list.insert(i, x)\r\n",
    "<br>\r\n",
    "Insert an item at a given position. The first argument is the index of the element before<br>\r\n",
    "which to insert, so a.insert(0, x) inserts at the front of the list, and a.insert(len(a), x)<br>\r\n",
    "is equivalent to a.append(x).\r\n",
    "<br><br>\r\n",
    "list.remove(x)\r\n",
    "<br>\r\n",
    "Remove the first item from the list whose value is equal to x. It raises a ValueError<br>\r\n",
    "if there is no such item.\r\n",
    "<br><br>\r\n",
    "list.pop([i])\r\n",
    "<br>\r\n",
    "Remove the item at the given position in the list, and return it. If no index is specified,<br>\r\n",
    "a.pop() removes and returns the last item in the list. (The square brackets around the i in<br>\r\n",
    "the method signature denote that the parameter is optional, not that you should type square<br>\r\n",
    "brackets at that position. You will see this notation frequently in the Python Library Reference.)\r\n",
    "<br><br>\r\n",
    "list.clear()\r\n",
    "<br>\r\n",
    "Remove all items from the list. Equivalent to del a[:].\r\n",
    "<br><br>\r\n",
    "list.index(x[, start[, end]])\r\n",
    "<br>\r\n",
    "Return zero-based index in the list of the first item whose value is equal to x.<br>\r\n",
    "Raises a ValueError if there is no such item.\r\n",
    "\r\n",
    "The optional arguments start and end are interpreted as in the slice notation and are<br>\r\n",
    "used to limit the search to a particular subsequence of the list. The returned index is<br>\r\n",
    "computed relative to the beginning of the full sequence rather than the start argument.\r\n",
    "<br><br>\r\n",
    "list.count(x)\r\n",
    "<br>\r\n",
    "Return the number of times x appears in the list.\r\n",
    "<br><br>\r\n",
    "list.sort(*, key=None, reverse=False)\r\n",
    "<br>\r\n",
    "Sort the items of the list in place (the arguments can be used for sort customization,<br>\r\n",
    "see sorted() for their explanation).\r\n",
    "<br><br>\r\n",
    "list.reverse()\r\n",
    "<br>\r\n",
    "Reverse the elements of the list in place.\r\n",
    "<br><br>\r\n",
    "list.copy()\r\n",
    "<br>\r\n",
    "Return a shallow copy of the list. Equivalent to a[:].\r\n",
    "<br><br>\r\n",
    "</div>"
   ],
   "metadata": {}
  },
  {
   "cell_type": "code",
   "execution_count": 1,
   "source": [
    "fruits = ['orange', 'apple', 'pear', 'banana', 'kiwi', 'apple', 'banana']\r\n",
    "print(fruits.count('apple'))\r\n",
    "print(fruits.count('tangerine'))\r\n",
    "print(fruits.index('banana', 4))  # Find next banana starting a position 4\r\n",
    "print(fruits.reverse())\r\n",
    "print(fruits)\r\n",
    "# ['banana', 'apple', 'kiwi', 'banana', 'pear', 'apple', 'orange']\r\n",
    "print(fruits.append('grape'))\r\n",
    "print(fruits)\r\n",
    "# ['banana', 'apple', 'kiwi', 'banana', 'pear', 'apple', 'orange', 'grape']\r\n",
    "fruits.sort()\r\n",
    "print(fruits)\r\n",
    "# ['apple', 'apple', 'banana', 'banana', 'grape', 'kiwi', 'orange', 'pear']\r\n",
    "fruits.pop()\r\n",
    "print(fruits)"
   ],
   "outputs": [
    {
     "output_type": "stream",
     "name": "stdout",
     "text": [
      "2\n",
      "0\n",
      "6\n",
      "None\n",
      "['banana', 'apple', 'kiwi', 'banana', 'pear', 'apple', 'orange']\n",
      "None\n",
      "['banana', 'apple', 'kiwi', 'banana', 'pear', 'apple', 'orange', 'grape']\n",
      "['apple', 'apple', 'banana', 'banana', 'grape', 'kiwi', 'orange', 'pear']\n",
      "['apple', 'apple', 'banana', 'banana', 'grape', 'kiwi', 'orange']\n"
     ]
    }
   ],
   "metadata": {}
  },
  {
   "cell_type": "markdown",
   "source": [
    "<h2>Lists can be used as stacks using the append() and pop()\r\n",
    "functions which are suited to this\r\n",
    "</h2>"
   ],
   "metadata": {}
  },
  {
   "cell_type": "markdown",
   "source": [
    "<h2>Queues</h2>\r\n",
    "<div style=\"font-size: 15px\">\r\n",
    "While appends and pops from the end of list are fast, doing inserts<br>\r\n",
    "and pops from beginning of a list is slow (because all of the other elements have<br>\r\n",
    "to be shifted one by one)\r\n",
    "<br><br>\r\n",
    "To implement a queue use <strong>collections.deque</strong> which was designed to<br>\r\n",
    "have fast appends and pops from both ends. For example:\r\n",
    "</div>"
   ],
   "metadata": {}
  },
  {
   "cell_type": "code",
   "execution_count": 3,
   "source": [
    "from collections import deque\r\n",
    "queue = deque([\"Eric\", \"John\", \"Michael\"])\r\n",
    "queue.append(\"Terry\")\r\n",
    "queue.append(\"Graham\")\r\n",
    "print(queue)\r\n",
    "print(queue.popleft())\r\n",
    "print(queue.popleft())\r\n",
    "queue"
   ],
   "outputs": [
    {
     "output_type": "stream",
     "name": "stdout",
     "text": [
      "deque(['Eric', 'John', 'Michael', 'Terry', 'Graham'])\n",
      "Eric\n",
      "John\n"
     ]
    },
    {
     "output_type": "execute_result",
     "data": {
      "text/plain": [
       "deque(['Michael', 'Terry', 'Graham'])"
      ]
     },
     "metadata": {},
     "execution_count": 3
    }
   ],
   "metadata": {}
  },
  {
   "cell_type": "markdown",
   "source": [
    "<h2>List Comprehensions</h2>"
   ],
   "metadata": {}
  },
  {
   "cell_type": "code",
   "execution_count": 11,
   "source": [
    "squares = []\r\n",
    "for x in range(10):\r\n",
    "    squares.append(x**2)\r\n",
    "\r\n",
    "print(squares, x)\r\n",
    "\r\n",
    "# Note that this creates (or overwrites) a variable named x that\r\n",
    "# still exists after the loop completes.\r\n",
    "# We can calculate the list of squares without any side effects using:\r\n",
    "\r\n",
    "squares=list(map(lambda x: x**2, range(10)))\r\n",
    "print(squares)\r\n",
    "\r\n",
    "# Or equivalently\r\n",
    "squares=[x1**2 for x1 in range(10)]\r\n",
    "print(squares)\r\n",
    "\r\n",
    "# A list comprehension consists of brackets containing an expression\r\n",
    "# followed by a for clause, then zero or more for or if clauses.\r\n",
    "# The result will be a new list resulting from evaluating the \r\n",
    "# expression in context of the for or if clauses which follow it.\r\n",
    "# For example, this listcomp combines the lements of two lists if they\r\n",
    "# are not equal:\r\n",
    "\r\n",
    "print([(x,y) for x in [1,2,3] for y in [3,1,4] if x != y])\r\n",
    "\r\n",
    "# This is equivalent to:\r\n",
    "combs=[]\r\n",
    "for x in [1,2,3]:\r\n",
    "    for y in [3,1,4]:\r\n",
    "        if x != y:\r\n",
    "            combs.append((x,y))\r\n",
    "\r\n",
    "print(combs)\r\n",
    "\r\n",
    "#if the expression is a tuple, it must be parenthesized like above\r\n",
    "\r\n",
    "#Another example: Flattening a list\r\n",
    "vec=[[1,2,3], [4,5,6], [7,8,9]]\r\n",
    "print(\"Flattening a list using listcomp:\\n\",\r\n",
    "      [num for elem in vec for num in elem])\r\n",
    "\r\n",
    "#List comprehensions cna contain complex expressions and  nested functions\r\n",
    "print(\"Rounding pi to different number of decimals using listcomp\")\r\n",
    "from math import pi\r\n",
    "print([str(round(pi, i)) for i in range(1,6)])"
   ],
   "outputs": [
    {
     "output_type": "stream",
     "name": "stdout",
     "text": [
      "[0, 1, 4, 9, 16, 25, 36, 49, 64, 81] 9\n",
      "[0, 1, 4, 9, 16, 25, 36, 49, 64, 81]\n",
      "[0, 1, 4, 9, 16, 25, 36, 49, 64, 81]\n",
      "[(1, 3), (1, 4), (2, 3), (2, 1), (2, 4), (3, 1), (3, 4)]\n",
      "[(1, 3), (1, 4), (2, 3), (2, 1), (2, 4), (3, 1), (3, 4)]\n",
      "Flattening a list using listcomp:\n",
      " [1, 2, 3, 4, 5, 6, 7, 8, 9]\n",
      "Rounding pi to different number of decimals using listcomp\n",
      "['3.1', '3.14', '3.142', '3.1416', '3.14159']\n"
     ]
    }
   ],
   "metadata": {}
  },
  {
   "cell_type": "markdown",
   "source": [
    "<h2>Nested List Comprehensions</h2>\r\n",
    "<div style=\"font-size: 15px\">\r\n",
    "The initial expr in a listcomp can be any arbitrary expr, including<br>\r\n",
    "another listcomp.\r\n",
    "</div>"
   ],
   "metadata": {}
  },
  {
   "cell_type": "code",
   "execution_count": 13,
   "source": [
    "matrix=[\r\n",
    "    [1,2,3,4],\r\n",
    "    [5,6,7,8],\r\n",
    "    [9,10,11,12],\r\n",
    "    ]\r\n",
    "# Transposes\r\n",
    "print([[row[i] for row in matrix] for i in range(4)])\r\n",
    "# [[row1[i], row2[i], row3[i], row4[i]] for i in range(4)]\r\n",
    "# [[row1[1], row2[1], row3[1], row4[1]], [row1[2], row2[2], row3[2], row4[2]]...]\r\n",
    "\r\n",
    "# Built in functions should be preferred to complex flow statements.\r\n",
    "# The zip() function would do a great job for this sue case:\r\n",
    "\r\n",
    "print(list(zip(*matrix)))\r\n",
    "# here the object 'matrix' is passed as an argument list to the zip()\r\n",
    "# function. Hence the asterisk. For reference see previous section on\r\n",
    "# control flow tools (Unpacking argument lists)."
   ],
   "outputs": [
    {
     "output_type": "execute_result",
     "data": {
      "text/plain": [
       "[[1, 5, 9], [2, 6, 10], [3, 7, 11], [4, 8, 12]]"
      ]
     },
     "metadata": {},
     "execution_count": 13
    }
   ],
   "metadata": {}
  },
  {
   "cell_type": "markdown",
   "source": [
    "<h2>The del statement</h2>\r\n",
    "<div style=\"font-size: 15px\">\r\n",
    "The del statement can be used to remove an item from a list given its index<br>\r\n",
    "This differs from the pop() method which returns a value\r\n",
    "</div>"
   ],
   "metadata": {}
  },
  {
   "cell_type": "code",
   "execution_count": 14,
   "source": [
    "a = [-1, 1, 66.25, 333, 33, 1234.5]\r\n",
    "del a[0]\r\n",
    "print(a)\r\n",
    "del a[2:4]\r\n",
    "print(a)\r\n",
    "del a[:] #This clears the list, but doesn't delete the variable itself\r\n",
    "print(a)\r\n",
    "\r\n",
    "# del can also be used to delete entire variables:\r\n",
    "del a\r\n",
    "print(a) #will give error as there exists no variable 'a'"
   ],
   "outputs": [
    {
     "output_type": "stream",
     "name": "stdout",
     "text": [
      "[1, 66.25, 333, 33, 1234.5]\n",
      "[1, 66.25, 1234.5]\n",
      "[]\n"
     ]
    },
    {
     "output_type": "error",
     "ename": "NameError",
     "evalue": "name 'a' is not defined",
     "traceback": [
      "\u001b[1;31m---------------------------------------------------------------------------\u001b[0m",
      "\u001b[1;31mNameError\u001b[0m                                 Traceback (most recent call last)",
      "\u001b[1;32mC:\\Users\\SECOND~1\\AppData\\Local\\Temp/ipykernel_10452/695818323.py\u001b[0m in \u001b[0;36m<module>\u001b[1;34m\u001b[0m\n\u001b[0;32m      9\u001b[0m \u001b[1;31m# del can also be used to delete entire variables:\u001b[0m\u001b[1;33m\u001b[0m\u001b[1;33m\u001b[0m\u001b[1;33m\u001b[0m\u001b[0m\n\u001b[0;32m     10\u001b[0m \u001b[1;32mdel\u001b[0m \u001b[0ma\u001b[0m\u001b[1;33m\u001b[0m\u001b[1;33m\u001b[0m\u001b[0m\n\u001b[1;32m---> 11\u001b[1;33m \u001b[0mprint\u001b[0m\u001b[1;33m(\u001b[0m\u001b[0ma\u001b[0m\u001b[1;33m)\u001b[0m \u001b[1;31m#will give error as there exists no variable 'a'\u001b[0m\u001b[1;33m\u001b[0m\u001b[1;33m\u001b[0m\u001b[0m\n\u001b[0m",
      "\u001b[1;31mNameError\u001b[0m: name 'a' is not defined"
     ]
    }
   ],
   "metadata": {}
  },
  {
   "cell_type": "markdown",
   "source": [
    "<h2>Tuples and Sequences</h2>\r\n",
    "<div style=\"font-size: 15px\">\r\n",
    "Tuple is another standard sequence data type. it consists of a<br>\r\n",
    "number of variables seperated by commas.\r\n",
    "</div>"
   ],
   "metadata": {}
  },
  {
   "cell_type": "code",
   "execution_count": 20,
   "source": [
    "t = 12345, 54321, 'hello!'\r\n",
    "print(t[0])\r\n",
    "\r\n",
    "# Tuples may be nested:\r\n",
    "u = t, (1,2,3,4,5)\r\n",
    "print(u)\r\n",
    "\r\n",
    "# Tuples are immutable\r\n",
    "# t[0]=9997 # Should give TypeError\r\n",
    "\r\n",
    "#Tuples can *contain* mutable objects:\r\n",
    "v=([1,2,3], [3,2,1])\r\n",
    "print(v)\r\n",
    "v[0][2]=6\r\n",
    "print(v)\r\n",
    "\r\n",
    "# A special problem is the construction of tuples containing 0 or 1 items:\r\n",
    "# The syntax has some extra quirks to acoomodate these.\r\n",
    "# Empty tuples are constructed by an empty pair of parentheses\r\n",
    "# A tuple with one item is constructed by following a value with a comma\r\n",
    "# it is not sufficient to enclose a single value in parentheses).\r\n",
    "\r\n",
    "empty=()\r\n",
    "singleton = 'hello',   # Note the trailing comma\r\n",
    "print(\"Length of empty tuple:\", len(empty))\r\n",
    "print(\"Length of tuple with single element:\", len(singleton))\r\n",
    "print(empty, singleton)\r\n",
    "\r\n",
    "# Tuple packing:\r\n",
    "\r\n",
    "t = 12345, 54321, 'hello!'\r\n",
    "print(t)\r\n",
    "\r\n",
    "# The threee elements are \"packed\" together in a tuple.\r\n",
    "\r\n",
    "# The reverse would be:\r\n",
    "\r\n",
    "x, y, z = t\r\n",
    "print(x,'\\n',y,'\\n',z, sep='')\r\n",
    "# This is called sequence unpacking and works for any sequence on the RHS.\r\n",
    "# It requires that there are as many variables on the LHS as there are\r\n",
    "# elements in the sequence.\r\n",
    "# Here it is also interesting to note that multiple assignment is really just\r\n",
    "# a combination of tuple packing and sequence unpacking."
   ],
   "outputs": [
    {
     "output_type": "stream",
     "name": "stdout",
     "text": [
      "12345\n",
      "((12345, 54321, 'hello!'), (1, 2, 3, 4, 5))\n",
      "([1, 2, 3], [3, 2, 1])\n",
      "([1, 2, 6], [3, 2, 1])\n",
      "Length of empty tuple: 0\n",
      "Length of tuple with single element: 1\n",
      "() ('hello',)\n",
      "(12345, 54321, 'hello!')\n",
      "12345\n",
      "54321\n",
      "hello!\n"
     ]
    }
   ],
   "metadata": {}
  },
  {
   "cell_type": "markdown",
   "source": [
    "<h2>Sets</h2>\r\n",
    "<div style=\"font-size: 15px\">\r\n",
    "A set is an unordered collection with no duplicate elements.<br>\r\n",
    "Basic uses include membership testing and eliminating duplicate entries.<br>\r\n",
    "Set objects also support mathematical operations like union, intersection<br>\r\n",
    "difference, and symmetric difference.<br>\r\n",
    "Curly braces or the <code>set()</code> function can be used to create sets.<br>\r\n",
    "Note: to create an empty set you have to use <code>set()</code>,<br>\r\n",
    "not <code>{}</code>; the latter creates an empty dictionary\r\n",
    "</div>"
   ],
   "metadata": {}
  },
  {
   "cell_type": "code",
   "execution_count": 32,
   "source": [
    "print('_'*78+'|') # Just to keep track of code not being > 79 chars per line\r\n",
    "# Trying to follow the PEP 8 recommendations :')\r\n",
    "basket = {'apple', 'orange', 'apple', 'pear', 'orange', 'banana'}\r\n",
    "print(basket)\r\n",
    "print('orange' in basket)\r\n",
    "print('strawberries' in basket)\r\n",
    "\r\n",
    "print(\"Set ops on unique letters from two words\")\r\n",
    "a = set('abracadabra')\r\n",
    "b=set('alacazam')\r\n",
    "print(a)\r\n",
    "print(b)\r\n",
    "print(a - b,'\\n',  # Letters in a but not b\r\n",
    "    a | b, '\\n',  # Letters in a or b (or both)\r\n",
    "    a & b, '\\n',  # Letters in both a and b\r\n",
    "    a ^ b, sep=''  # Letters in either a or b (but not both)\r\n",
    "    )\r\n",
    "\r\n",
    "print(\"Set comprehensions are also supported:\")\r\n",
    "a = {x for x in 'abracadabra' if x not in 'abc'}\r\n",
    "# Equivalent to set('abracadabra') - set('abc')\r\n",
    "print(a)"
   ],
   "outputs": [
    {
     "output_type": "stream",
     "name": "stdout",
     "text": [
      "______________________________________________________________________________|\n",
      "{'apple', 'orange', 'banana', 'pear'}\n",
      "True\n",
      "False\n",
      "Set ops on unique letters from two words\n",
      "{'a', 'r', 'b', 'c', 'd'}\n",
      "{'a', 'z', 'c', 'l', 'm'}\n",
      "{'r', 'd', 'b'}\n",
      "{'a', 'r', 'z', 'b', 'c', 'd', 'l', 'm'}\n",
      "{'c', 'a'}\n",
      "{'b', 'd', 'l', 'r', 'm', 'z'}\n",
      "Set comprehensions are also supported:\n",
      "{'r', 'd'}\n"
     ]
    }
   ],
   "metadata": {}
  },
  {
   "cell_type": "markdown",
   "source": [
    "<h2>Dictionaries</h2>\r\n",
    "<div style=\"font-size: 15px\">\r\n",
    "Dictionaries are indexed by <i>keys</i>, which can be any immutable type;<br>\r\n",
    "strings and numbers can always be keys. Tuples can be used as keys if<br>\r\n",
    "they contain only strings, numbers, or tuples; if a tuple contains any<br>\r\n",
    "mutable object either directly or indirectly, it cannot be used as a key<br>\r\n",
    "Lists can;t be used as keys, since lists can be modified in place using<br>\r\n",
    "index assignments, slice assignments, or methods like <code>append()</code><br> and <code>extend()</code><br>\r\n",
    "<br>\r\n",
    "<br>\r\n",
    "it is best to think of a dictionary as a set of key: value pairs, with the<br>\r\n",
    "requirement that the keys are uniqie (within one dictionary). A pair of<br>\r\n",
    "braces creates an empty dictionary: {}.<br>\r\n",
    "Placing a ocmma-seperated list of key:value pairs within the braces<br>\r\n",
    "adds initial key: value pairs to the dictionary; this is also the way<br>\r\n",
    "dictionaries are written on output<br>\r\n",
    "<br>\r\n",
    "<br>\r\n",
    "The main operations on a dictionary are storing a value with some key<br>\r\n",
    "and extracting the value given the key.  If you store using a key that<br>\r\n",
    "is already in use, the old value associated with that key is forgotten.<br>\r\n",
    "It is an error to extract a value using a non-existent key.<br>\r\n",
    "\r\n",
    "Performing <code>list(d)</code> on a dictionary returns a list of all<br>\r\n",
    "the keys used in the dictionary, in insertion order (if you want it<br>\r\n",
    "sorted, just use <code>sorted(d)</code> instead). To check whether a single key is<br>\r\n",
    "in the dictionary, use the <code>in</code> keyword.<br>\r\n",
    "</div>"
   ],
   "metadata": {}
  },
  {
   "cell_type": "code",
   "execution_count": 9,
   "source": [
    "tel={'jack': 4098, 'Jack': 4139}\r\n",
    "tel['guido'] = 4127\r\n",
    "print(tel)\r\n",
    "print(tel['jack'])\r\n",
    "print(tel['Jack'])\r\n",
    "del tel['Jack']\r\n",
    "tel['Terry'] = 4127\r\n",
    "print(tel)\r\n",
    "print(list(tel))\r\n",
    "print(sorted(tel))\r\n",
    "print('Terry' in tel)\r\n",
    "print('jack' not in tel)\r\n",
    "\r\n",
    "# The dict() constructor builds dictionaries directly from sequences of\r\n",
    "# key value pairs\r\n",
    "print(\"Using dict() constructor:\")\r\n",
    "print(dict([('sape', 4139), ('guido', 4127), ('jack', 4098)]))\r\n",
    "\r\n",
    "#dict comprehensions can be used to create dictionaries from arbitrary\r\n",
    "# key and value expressions:\r\n",
    "\r\n",
    "print(\"Using dict comprehensions:\")\r\n",
    "print({x: x**2 for x in (2,4,6)})\r\n",
    "\r\n",
    "print(\"Using keyword arguments:\")\r\n",
    "print(dict(sape=4139, guido=4127, jack=4098))"
   ],
   "outputs": [
    {
     "output_type": "stream",
     "name": "stdout",
     "text": [
      "{'jack': 4098, 'Jack': 4139, 'guido': 4127}\n",
      "4098\n",
      "4139\n",
      "{'jack': 4098, 'guido': 4127, 'Terry': 4127}\n",
      "['jack', 'guido', 'Terry']\n",
      "['Terry', 'guido', 'jack']\n",
      "True\n",
      "False\n",
      "Using dict() constructor:\n",
      "{'sape': 4139, 'guido': 4127, 'jack': 4098}\n",
      "Using dict comprehensions:\n",
      "{2: 4, 4: 16, 6: 36}\n",
      "Using keyword arguments:\n",
      "{'sape': 4139, 'guido': 4127, 'jack': 4098}\n"
     ]
    }
   ],
   "metadata": {}
  },
  {
   "cell_type": "markdown",
   "source": [
    "<h2>Looping techniques</h2>\r\n",
    "<br>\r\n",
    "<div style=\"font-size: 15px\">\r\n",
    "When looping through dictionaries, the key and corresponding value can be<br>\r\n",
    "retrieved at the same time using the <code>items()</code> method.\r\n",
    "</div>"
   ],
   "metadata": {}
  },
  {
   "cell_type": "code",
   "execution_count": 21,
   "source": [
    "knights = {'gallahad': 'the pure', 'robin': 'the brave'}\r\n",
    "for k, v in knights.items():\r\n",
    "    print(k, v)\r\n",
    "\r\n",
    "# When looping through a sequence, the position index and corresponding value\r\n",
    "# can be retrieved at the same time using the enumerate() function.\r\n",
    "\r\n",
    "print(\"Using enumerate:\")\r\n",
    "for i, v in enumerate(['tic', 'tac', 'toe']):\r\n",
    "    print(i, v)\r\n",
    "\r\n",
    "# To loop over two or more sequences at the same time:\r\n",
    "print(\"\\nLooping over multiple sequences:\")\r\n",
    "questions = ['name', 'quest', 'favorite color']\r\n",
    "answers = ['lancelot', 'the holy grail', 'blue']\r\n",
    "for q, a in zip(questions, answers):\r\n",
    "    print('What is your {0}? It is {1}.'.format(q,a))\r\n",
    "\r\n",
    "# To loop over a sequence in reverse, use the reversed() function:\r\n",
    "print(\"\\nLooping in reverse:\")\r\n",
    "for i in reversed(range(1,10,2)):\r\n",
    "    print(i, end=' ')\r\n",
    "\r\n",
    "print(\"\\nLooping in sorted:\")  #Returns a new sorted list; source unaltered\r\n",
    "basket = ['apple', 'orange', 'apple', 'pear', 'orange', 'banana']\r\n",
    "for i in sorted(basket):\r\n",
    "    print(i)\r\n",
    "\r\n",
    "print(\"Using set eliminates duplicate elements.\")\r\n",
    "# A common use could be to combine thsi with sorted() to loop over\r\n",
    "# unique elements of a sequence in sorted order\r\n",
    "basket = ['apple', 'orange', 'apple', 'pear', 'orange', 'banana']\r\n",
    "for i in sorted(set(basket)):\r\n",
    "    print(i)\r\n",
    "\r\n",
    "# It is often better to create a new list than to change one while\r\n",
    "# looping over it"
   ],
   "outputs": [
    {
     "output_type": "stream",
     "name": "stdout",
     "text": [
      "gallahad the pure\n",
      "robin the brave\n",
      "Using enumerate:\n",
      "0 tic\n",
      "1 tac\n",
      "2 toe\n",
      "\n",
      "Looping over multiple sequences:\n",
      "What is your name? It is lancelot.\n",
      "What is your quest? It is the holy grail.\n",
      "What is your favorite color? It is blue.\n",
      "\n",
      "Looping in reverse:\n",
      "9 7 5 3 1 \n",
      "Looping in sorted:\n",
      "apple\n",
      "apple\n",
      "banana\n",
      "orange\n",
      "orange\n",
      "pear\n",
      "Using set eliminates duplicate elements.\n",
      "apple\n",
      "banana\n",
      "orange\n",
      "pear\n"
     ]
    }
   ],
   "metadata": {}
  },
  {
   "cell_type": "markdown",
   "source": [
    "<h2>More on Conditions</h2>\r\n",
    "<br>\r\n",
    "<div style=\"font-size: 15px\">\r\n",
    "The conditions used in while and if statements can contain any operators,<br>\r\n",
    "not just comparisons.<br>\r\n",
    "<br>\r\n",
    "The comparison operators in and not in check whether a value occurs<br>\r\n",
    "(does not occur) in a sequence. The operators is and is not compare whether<br>\r\n",
    "two objects are really the same object. All comparison operators have the<br>\r\n",
    "same priority, which is lower than that of all numerical operators.<br>\r\n",
    "<br>\r\n",
    "Comparisons can be chained. For example, <code>a < b == c</code> tests<br>\r\n",
    "whether a is\r\n",
    "less than b and moreover b equals c.<br>\r\n",
    "<br>\r\n",
    "Comparisons may be combined using the Boolean operators <code>and</code> and <code>or</code>, and the outcome of a comparison (or of any other<br>\r\n",
    "Boolean expression) may be negated with <code>not</code>. These have<br>\r\n",
    "lower priorities than comparison operators; between them, <code>not</code><br> has the highest priority and <code>or</code> the lowest, so that<br>\r\n",
    "<code>A and not B or C</code> is equivalent to<br>\r\n",
    "<code>(A and (not B)) or C</code>. As always, parentheses can be used to<br>\r\n",
    "express the desired composition.<br>\r\n",
    "<br>\r\n",
    "The Boolean operators <code>and</code> and <code>or</code> are<br>\r\n",
    "so-called short-circuit operators:<br>\r\n",
    "their arguments are evaluated from left to right, and evaluation stops as<br>\r\n",
    "soon as the outcome is determined. For example, if A and C are true but<br>\r\n",
    "B is false, <code>A and B and C</code> does not evaluate the expression<br>\r\n",
    "C. When used as a general value and not as a Boolean, the return value<br>\r\n",
    "of a short-circuit operator is the last evaluated argument.<br>\r\n",
    "<br>\r\n",
    "It is possible to assign the result of a comparison or other Boolean<br>\r\n",
    "expression to a variable. For example,<br>\r\n",
    "</div>"
   ],
   "metadata": {}
  },
  {
   "cell_type": "code",
   "execution_count": 4,
   "source": [
    "string1, string2, string3 = '', 'Trondheim', 'Hammer Dance'\r\n",
    "non_null = string1 or string2 or string3\r\n",
    "print(non_null)\r\n",
    "\r\n",
    "# Note that in Python, unlike C, assignment inside expressions must\r\n",
    "# be done explicitly with the walrus operator :=. This avoids a common\r\n",
    "# class of problems encountered in C programs: typing = in an\r\n",
    "# expression when == was intended.\r\n",
    "# The walrus operator was introduced in a Python 3.8 update. It makes it\r\n",
    "# possible to both assign a value and return it with the same statement.\r\n",
    "\r\n",
    "order=[]\r\n",
    "while True:\r\n",
    "    tea = input(\"What's your order: \")\r\n",
    "    if tea == \"coffee\":\r\n",
    "        break\r\n",
    "    order.append(tea)\r\n",
    "print(order)\r\n",
    "\r\n",
    "# Can be written as:\r\n",
    "order=[]\r\n",
    "while (tea:=input(\"What's your order: \")) != \"coffee\":\r\n",
    "    order.append(tea)\r\n",
    "print(order)"
   ],
   "outputs": [
    {
     "output_type": "stream",
     "name": "stdout",
     "text": [
      "Trondheim\n",
      "['tea1', 'tea2', 'tea3']\n",
      "['tea21', 'tea22', 'tea23']\n"
     ]
    }
   ],
   "metadata": {}
  },
  {
   "cell_type": "markdown",
   "source": [
    "<h2>Comparing sequences and other types</h2>\r\n",
    "<div style=\"font-size: 15px\">\r\n",
    "Sequence objects typically may be compared to other sequence objects<br>\r\n",
    "with the same sequence type.<br>\r\n",
    "The comparision uses lexicographical ordering. If two items to be compared<br>\r\n",
    "are themselves sequences of the same type, the lexicographical comparision<br>\r\n",
    "is carried out recursively. If all items compare equal, the sequences are<br>\r\n",
    "considered equal.<br>\r\n",
    "If one sequence is an initial sub-sequence of the other, the shorter<br>\r\n",
    "sequence is the lesser one.<br>\r\n",
    "<br>\r\n",
    "Lexicogrpahical ordering for strings uses the Unicode cod epoint number to<br>\r\n",
    "order individual characters.<br>\r\n",
    "<br>\r\n",
    "<br>\r\n",
    "<blockquote>\r\n",
    "<br>\r\n",
    "<code>\r\n",
    "(1, 2, 3)              < (1, 2, 4)<br>\r\n",
    "[1, 2, 3]              < [1, 2, 4]<br>\r\n",
    "'ABC' < 'C' < 'Pascal' < 'Python'<br>\r\n",
    "(1, 2, 3, 4)           < (1, 2, 4)<br>\r\n",
    "(1, 2)                 < (1, 2, -1)<br>\r\n",
    "(1, 2, 3)             == (1.0, 2.0, 3.0)<br>\r\n",
    "(1, 2, ('aa', 'ab'))   < (1, 2, ('abc', 'a'), 4)<br>\r\n",
    "</code>\r\n",
    "<br>\r\n",
    "</blockquote>\r\n",
    "\r\n",
    "<br>\r\n",
    "<br>\r\n",
    "Comparing objects of different types is legal provided the objects have<br>\r\n",
    "appropriate comparision methods. E.g. 0 equals 0.0 as comparision is by<br>\r\n",
    "numeric value.<br>\r\n",
    "Otherwise the interpreter will raise a <code>TypeError</code> exception.\r\n",
    "</div>"
   ],
   "metadata": {}
  }
 ],
 "metadata": {
  "orig_nbformat": 4,
  "language_info": {
   "name": "python",
   "version": "3.9.4",
   "mimetype": "text/x-python",
   "codemirror_mode": {
    "name": "ipython",
    "version": 3
   },
   "pygments_lexer": "ipython3",
   "nbconvert_exporter": "python",
   "file_extension": ".py"
  },
  "kernelspec": {
   "name": "python3",
   "display_name": "Python 3.9.4 64-bit"
  },
  "interpreter": {
   "hash": "cfaa36bee6b23c52625142bf31ea28c3ad7325c971be2e267544e946147027d6"
  }
 },
 "nbformat": 4,
 "nbformat_minor": 2
}