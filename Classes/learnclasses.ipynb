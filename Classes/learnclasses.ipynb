{
 "cells": [
  {
   "cell_type": "markdown",
   "source": [
    "# Classes"
   ],
   "metadata": {}
  },
  {
   "cell_type": "code",
   "execution_count": 8,
   "source": [
    "# Just a little something for your consideration :D\r\n",
    "\r\n",
    "a = [1, 2, 3, 4]\r\n",
    "b = a\r\n",
    "c = a\r\n",
    "b = b[0]-1\r\n",
    "print(b)\r\n",
    "print(a)\r\n",
    "c[0] = c[0]-1\r\n",
    "print(c)\r\n",
    "print(a)"
   ],
   "outputs": [
    {
     "output_type": "stream",
     "name": "stdout",
     "text": [
      "0\n",
      "[1, 2, 3, 4]\n",
      "[0, 2, 3, 4]\n",
      "[0, 2, 3, 4]\n"
     ]
    }
   ],
   "metadata": {}
  },
  {
   "cell_type": "markdown",
   "source": [
    "<h2>Now, let's get started with Classes</h2>"
   ],
   "metadata": {}
  },
  {
   "cell_type": "markdown",
   "source": [
    "<h2>Scopes and namespaces example</h2>"
   ],
   "metadata": {}
  },
  {
   "cell_type": "code",
   "execution_count": 9,
   "source": [
    "def scope_test():\r\n",
    "    def do_local():\r\n",
    "        spam = 'Local spam'\r\n",
    "\r\n",
    "    def do_nonlocal():\r\n",
    "        nonlocal spam\r\n",
    "        spam = 'nonlocal spam'\r\n",
    "    \r\n",
    "    def do_global():\r\n",
    "        global spam\r\n",
    "        spam = 'global spam'\r\n",
    "\r\n",
    "    spam = 'test spam'\r\n",
    "    do_local()\r\n",
    "    print('After local assignment:', spam)\r\n",
    "    do_nonlocal()\r\n",
    "    print('After nonlocal assignment:', spam)\r\n",
    "    do_global()\r\n",
    "    print('After global assignment:', spam)\r\n",
    "\r\n",
    "scope_test()\r\n",
    "print(\"In the global scope:\", spam)"
   ],
   "outputs": [
    {
     "output_type": "stream",
     "name": "stdout",
     "text": [
      "After local assignment: test spam\n",
      "After nonlocal assignment: nonlocal spam\n",
      "After global assignment: nonlocal spam\n",
      "In the global scope: global spam\n"
     ]
    }
   ],
   "metadata": {}
  },
  {
   "cell_type": "markdown",
   "source": [
    "<h2>A First Look at Classes</h2>"
   ],
   "metadata": {}
  },
  {
   "cell_type": "markdown",
   "source": [
    "<div style=\"font-size: 15px\">\r\n",
    "Class objects support two kinds of operations: attribute references and<br>\r\n",
    "instantiation.<br>\r\n",
    "<br>\r\n",
    "Attribute references use the standard syntax used for all attribute<br>\r\n",
    "references in Python: obj.name. Valid attribute names are all the names<br>\r\n",
    "that were in the class’s namespace when the class object was created. So, if<br>\r\n",
    "the class definition looked like this:<br>\r\n",
    "</div>"
   ],
   "metadata": {}
  },
  {
   "cell_type": "code",
   "execution_count": 2,
   "source": [
    "class MyClass:\r\n",
    "    \"\"\"A simple example class\"\"\"\r\n",
    "    i=12345\r\n",
    "\r\n",
    "    def f(self):\r\n",
    "        return 'hello world'"
   ],
   "outputs": [],
   "metadata": {}
  },
  {
   "cell_type": "markdown",
   "source": [
    "<div style=\"font-size: 15px\">\r\n",
    "Then MyClass.i and MyClass.f are valid attribute references, returning<br>\r\n",
    "an integer and a function object, respectively. Class attributes can also<br>\r\n",
    "be assigned to, so you can change the value of MyClass.i by assignment\r\n",
    "</div>"
   ],
   "metadata": {}
  },
  {
   "cell_type": "code",
   "execution_count": 6,
   "source": [
    "# Class instantiation uses function notation\r\n",
    "x = MyClass()\r\n",
    "print(x.i)\r\n",
    "# Creates a new instance of the class and assigns this object to the local\r\n",
    "# variable x\r\n",
    "# The instantiation operation creates an empty object. To create objects with\r\n",
    "# instances customized to a speciic initial state, a special method named\r\n",
    "# __init__() may be defined.\r\n",
    "# For such a class, class instantiation automatically invokes __init__() for\r\n",
    "# newly created class instance.\r\n",
    "\r\n",
    "class Complex:\r\n",
    "    def __init__(self, realpart, imgpart):\r\n",
    "        self.r = realpart\r\n",
    "        self.i = imgpart\r\n",
    "\r\n",
    "y = Complex(3.0, -4.5)\r\n",
    "print(y.r, y.i)"
   ],
   "outputs": [
    {
     "output_type": "stream",
     "name": "stdout",
     "text": [
      "12345\n",
      "3.0 -4.5\n"
     ]
    }
   ],
   "metadata": {}
  },
  {
   "cell_type": "markdown",
   "source": [
    "<h2>Instance Objects</h2>"
   ],
   "metadata": {}
  },
  {
   "cell_type": "code",
   "execution_count": null,
   "source": [
    "# The only operations understood by instance objects are attribute references\r\n",
    "# There are two kinds of valid attribute names: data attributes and methods.\r\n",
    "# Data attributes need not be declared; like local variables, they spring into\r\n",
    "# existence when they are first assigned to (but only for that instance)\r\n",
    "\r\n",
    "x.counter = 1\r\n",
    "while x.counter < 10:\r\n",
    "    x.counter = x.counter*2\r\n",
    "print(x.counter)\r\n",
    "del x.counter\r\n",
    "\r\n",
    "# All attributes of a class that are function objects define corresponding\r\n",
    "# methods of its instances.\r\n",
    "\r\n",
    "# x.f is a valid method reference, since MyClass.f is a function.\r\n",
    "# But x.f is not the same thing as MyClass.f -- it is a method object, not a\r\n",
    "# function object"
   ],
   "outputs": [],
   "metadata": {}
  },
  {
   "cell_type": "markdown",
   "source": [
    "<h2>Method Objects</h2>"
   ],
   "metadata": {}
  },
  {
   "cell_type": "code",
   "execution_count": 23,
   "source": [
    "# Method objects can be stored away and called at a later time\r\n",
    "xf = x.f\r\n",
    "a = 3\r\n",
    "while a > 0:\r\n",
    "    print(xf())  # it is called like a function hence the ()\r\n",
    "    a -= 1\r\n",
    "\r\n",
    "\r\n",
    "\"\"\"\r\n",
    "The special thing about methods is that the instance object is passed as the\r\n",
    "first argument of the function. In our example, the call x.f() is exactly\r\n",
    "equivalent to MyClass.f(x). In general, calling a method with a list of n\r\n",
    "arguments is equivalent to calling the corresponding function with an argument\r\n",
    "list that is created by inserting the method’s instance object before the first\r\n",
    "argument.\r\n",
    "\r\n",
    "\r\n",
    " When a non-data attribute of an instance is referenced, the instance’s class\r\n",
    " is searched.\r\n",
    " If the name denotes a valid class attribute that is a function object, a method\r\n",
    " object is created by packing (pointers to) the instance object and the function\r\n",
    " object just found together in an abstract object:\r\n",
    " this is the method object. When the method object is called with an argument\r\n",
    " list, a new argument list is constructed containing the instance object and the\r\n",
    " argument list.\r\n",
    " And the function object is called with this new argument list.\r\n",
    "\"\"\""
   ],
   "outputs": [
    {
     "output_type": "stream",
     "name": "stdout",
     "text": [
      "hello world\n",
      "hello world\n",
      "hello world\n"
     ]
    }
   ],
   "metadata": {}
  },
  {
   "cell_type": "markdown",
   "source": [
    "<h2>Class and Instance variables</h2>"
   ],
   "metadata": {}
  },
  {
   "cell_type": "code",
   "execution_count": 26,
   "source": [
    "# Generally, instance variables are for data unique to each instance and class\r\n",
    "# variables are for attributes and methods shared by all instances of the\r\n",
    "# class\r\n",
    "\r\n",
    "class Dog:\r\n",
    "\r\n",
    "    kind = 'canine'             # Class variables\r\n",
    "    kinder = ['Lets see']\r\n",
    "\r\n",
    "    def __init__(self, name):\r\n",
    "        self.name = name        # Instance variable\r\n",
    "\r\n",
    "d = Dog('Tom')\r\n",
    "e = Dog('Hercules')\r\n",
    "print(d.kind)\r\n",
    "print(e.kind)\r\n",
    "print(d.name)\r\n",
    "print(e.name)\r\n",
    "print(\"Trying to change the immutable type object class variable\")\r\n",
    "d.kind = 'Perturbed'\r\n",
    "print(d.kind)\r\n",
    "print(e.kind)\r\n",
    "print(\"Changing mutable type object class variable....surprise surprise:\")\r\n",
    "d.kinder[0] = 'Unperturbed'\r\n",
    "print(d.kinder)\r\n",
    "print(e.kinder)"
   ],
   "outputs": [
    {
     "output_type": "stream",
     "name": "stdout",
     "text": [
      "canine\n",
      "canine\n",
      "Tom\n",
      "Hercules\n",
      "Trying to change the immutable type object class variable\n",
      "Perturbed\n",
      "canine\n",
      "Changing mutable type object class variable....surprise surprise:\n",
      "['Unperturbed']\n",
      "['Unperturbed']\n"
     ]
    }
   ],
   "metadata": {}
  },
  {
   "cell_type": "code",
   "execution_count": 28,
   "source": [
    "# As the list 'kinder' is a mutable class variable, it is shared by all\r\n",
    "# objects and changes made to it by one instance are reflected in other\r\n",
    "# instances as well\r\n",
    "# This is an example why shared data should be avoided.\r\n",
    "\r\n",
    "# A better way to design this class would be\r\n",
    "\r\n",
    "class Dog:\r\n",
    "    def __init__(self, name):\r\n",
    "        self.name = name\r\n",
    "        self.kinder = []    # New empty list for each dog\r\n",
    "\r\n",
    "    def add_kinder(self, kinder):\r\n",
    "        self.kinder.append(kinder)\r\n",
    "\r\n",
    "d = Dog('Tom')\r\n",
    "e = Dog('Hercules')\r\n",
    "d.add_kinder('Perturbation')\r\n",
    "e.add_kinder('not perturbed... nopeee')\r\n",
    "print(d.kinder)\r\n",
    "print(e.kinder)"
   ],
   "outputs": [
    {
     "output_type": "stream",
     "name": "stdout",
     "text": [
      "['Perturbation']\n",
      "['not perturbed... nopeee']\n"
     ]
    }
   ],
   "metadata": {}
  },
  {
   "cell_type": "markdown",
   "source": [
    "<h2>Random Remarks</h2>"
   ],
   "metadata": {}
  },
  {
   "cell_type": "code",
   "execution_count": null,
   "source": [
    "\"\"\"\r\n",
    "Data attributes may be referenced by methods as well as by ordinary users \r\n",
    "(“clients”) of an object. In other words, classes are not usable to implement\r\n",
    "pure abstract data types. In fact, nothing in Python makes it possible to enforce\r\n",
    "data hiding — it is all based upon convention.\r\n",
    "\r\n",
    "Clients should use data attributes with care — clients may mess up invariants\r\n",
    "maintained by the methods by stamping on their data attributes. Note that\r\n",
    "clients may add data attributes of their own to an instance object without\r\n",
    "affecting the validity of the methods, as long as name conflicts are\r\n",
    "avoided — again, a naming convention can save a lot of headaches here.\r\n",
    "\r\n",
    "There is no shorthand for referencing data attributes (or other methods!) from\r\n",
    "within methods. I find that this actually increases the readability of methods:\r\n",
    "there is no chance of confusing local variables and instance variables when\r\n",
    "glancing through a method.\r\n",
    "\r\n",
    "Often, the first argument of a method is called self. This is nothing more than\r\n",
    "a convention: the name self has absolutely no special meaning to Python. Note,\r\n",
    "however, that by not following the convention your code may be less readable\r\n",
    "to other Python programmers, and it is also conceivable that a class browser\r\n",
    "program might be written that relies upon such a convention.\r\n",
    "\r\n",
    "Any function object that is a class attribute defines a method for instances\r\n",
    "of that class. It is not necessary that the function definition is textually\r\n",
    "enclosed in the class definition: assigning a function object to a local\r\n",
    "variable in the class is also ok.\r\n",
    "\r\n",
    "\"\"\""
   ],
   "outputs": [],
   "metadata": {}
  },
  {
   "cell_type": "code",
   "execution_count": null,
   "source": [
    "# defining function outside the textual boundaries of a class\r\n",
    "\r\n",
    "def f1(self, x, y):\r\n",
    "    return min(x, x+y)\r\n",
    "\r\n",
    "class C:\r\n",
    "    f = f1\r\n",
    "    def g(self):\r\n",
    "        return 'hello world'\r\n",
    "\r\n",
    "    h = g\r\n",
    "\r\n",
    "# Now f, g, and h are all attributes of class C, that refer to function\r\n",
    "# objects, and consequently they are all methods of instances of C - h being\r\n",
    "# exactly equivalent to g. Note that this practice usually only serves to\r\n",
    "# confuse the reader of a program\r\n",
    "\r\n",
    "# Methods may call other methods by using the self argument\r\n",
    "\r\n",
    "class Bag:\r\n",
    "    \r\n",
    "    def __init__(self):\r\n",
    "        self.data = []\r\n",
    "\r\n",
    "    def add(self, x):\r\n",
    "        self.data.append(x)\r\n",
    "\r\n",
    "    def add2(self, x):\r\n",
    "        self.add(x)\r\n",
    "        self.add(x)\r\n"
   ],
   "outputs": [],
   "metadata": {}
  },
  {
   "cell_type": "markdown",
   "source": [
    "<h2>Inheritance</h2>"
   ],
   "metadata": {}
  },
  {
   "cell_type": "code",
   "execution_count": null,
   "source": [
    "\"\"\"\r\n",
    "General syntax:\r\n",
    "\r\n",
    "class DerivedClassName(BaseClassName):\r\n",
    "    statement1\r\n",
    "    .\r\n",
    "    .\r\n",
    "    statementN\r\n",
    "\r\n",
    "The name BaseClassName must be defined in a scope containing the derived class\r\n",
    "definition. In place of a base class name, other arbitrary expressions are also\r\n",
    "allowed. This can be useful, for example, when the base class is defined in\r\n",
    "another module:\r\n",
    "\r\n",
    "class DerivedClassName(module.BaseClassName):\r\n",
    "\r\n",
    "\r\n",
    "Execution of a derived class definition proceeds the same as for a base class.\r\n",
    "When the class object is constructed, the base class is remembered. This is\r\n",
    "used for resolving attribute references: if a requested attribute is not\r\n",
    "found in the class, the search proceeds to look in the base class. This rule\r\n",
    "is applied recursively if the base class itself is derived from some other class.\r\n",
    "\r\n",
    "There’s nothing special about instantiation of derived classes:\r\n",
    "DerivedClassName()creates a new instance of the class. Method references are\r\n",
    "resolved as follows: the corresponding class attribute is searched, descending\r\n",
    "down the chain of base classes if necessary, and the method reference is valid\r\n",
    "if this yields a function object.\r\n",
    "\r\n",
    "Derived classes may override methods of their base classes. Because methods\r\n",
    "have no special privileges when calling other methods of the same object, a\r\n",
    "method of a base class that calls another method defined in the same base class\r\n",
    "may end up calling a method of a derived class that overrides it.\r\n",
    "(For C++ programmers: all methods in Python are effectively virtual.)\r\n",
    "\r\n",
    "An overriding method in a derived class may in fact want to extend rather\r\n",
    "than simply replace the base class method of the same name. There is a simple\r\n",
    "way to call the base class method directly: just call\r\n",
    "BaseClassName.methodname(self, arguments). This is occasionally useful to\r\n",
    "clients as well. (Note that this only works if the base class is accessible\r\n",
    "as BaseClassName in the global scope.)\r\n",
    "\r\n",
    "Python has two built-in functions that work with inheritance:\r\n",
    "•Use isinstance() to check an instance’s type: isinstance(obj, int) will be\r\n",
    "True only if obj.__class__ is int or some class derived from int.\r\n",
    "•Use issubclass() to check class inheritance: issubclass(bool, int) is True\r\n",
    "since bool is a subclass of int. However, issubclass(float, int) is False\r\n",
    "since float is not a subclass of int.\r\n",
    "\r\n",
    "\"\"\""
   ],
   "outputs": [],
   "metadata": {}
  },
  {
   "cell_type": "markdown",
   "source": [
    "<h2>Multiple Inheritance</h2>"
   ],
   "metadata": {}
  },
  {
   "cell_type": "code",
   "execution_count": null,
   "source": [
    "\"\"\"\r\n",
    "Python supports a form of multiple inheritance as well.\r\n",
    "\r\n",
    "class DerivedClassName(Base1, Base2, Base3):\r\n",
    "    statement1\r\n",
    "    .\r\n",
    "    .\r\n",
    "    .\r\n",
    "    statementN\r\n",
    "\r\n",
    "\r\n",
    "For most purposes, in the simplest cases, you can think of the search for\r\n",
    "attributes inherited from a parent class as depth-first, left-to-right, not\r\n",
    "searching twice in the same class where there is an overlap in the hierarchy.\r\n",
    "Thus, if an attribute is not found in DerivedClassName, it is searched for in\r\n",
    "Base1, then (recursively) in the base classes of Base1, and if it was not\r\n",
    "found there, it was searched for in Base2, and so on.\r\n",
    "\r\n",
    "In fact, it is slightly more complex than that; the method resolution order\r\n",
    "changes dynamically to support cooperative calls to super(). This approach\r\n",
    "is known in some other multiple-inheritance languages as call-next-method and\r\n",
    "is more powerful than the super call found in single-inheritance languages.\r\n",
    "\r\n",
    "Dynamic ordering is necessary because all cases of multiple inheritance\r\n",
    "exhibit one or more diamond relationships (where at least one of the parent\r\n",
    "classes can be accessed through multiple paths from the bottommost class).\r\n",
    "For example, all classes inherit from object, so any case of multiple\r\n",
    "inheritance provides more than one path to reach object. To keep the base\r\n",
    "classes from being accessed more than once, the dynamic algorithm linearizes\r\n",
    "the search order in a way that preserves the left-to-right ordering specified\r\n",
    "in each class, that calls each parent only once, and that is monotonic\r\n",
    "(meaning that a class can be subclassed without affecting the precedence order\r\n",
    "of its parents). Taken together, these properties make it possible to design\r\n",
    "reliable and extensible classes with multiple inheritance.\r\n",
    "\r\n",
    "\"\"\""
   ],
   "outputs": [],
   "metadata": {}
  },
  {
   "cell_type": "markdown",
   "source": [
    "<h2>Private Variables</h2>"
   ],
   "metadata": {}
  },
  {
   "cell_type": "code",
   "execution_count": null,
   "source": [
    "\"\"\"\r\n",
    "“Private” instance variables that cannot be accessed except from inside an\r\n",
    "object don’t exist in Python. However, there is a convention that is followed\r\n",
    "by most Python code: a name prefixed with an underscore (e.g. _spam) should be\r\n",
    "treated as a non-public part of the API (whether it is a function, a method or\r\n",
    "a data member). It should be considered an implementation detail and subject\r\n",
    "to change without notice.\r\n",
    "\r\n",
    "Since there is a valid use-case for class-private members (namely to avoid name\r\n",
    "clashes of names with names defined by subclasses), there is limited support for\r\n",
    "such a mechanism, called name mangling. Any identifier of the form __spam\r\n",
    "(at least two leading underscores, at most one trailing underscore) is textually\r\n",
    "replaced with _classname__spam, where classname is the current class name with\r\n",
    "leading underscore(s) stripped. This mangling is done without regard to the\r\n",
    "syntactic position of the identifier, as long as it occurs within the definition\r\n",
    "of a class.\r\n",
    "\r\n",
    "Name mangling is helpful for letting subclasses override methods without\r\n",
    "breaking intraclass method calls. For example:\r\n",
    "\r\n",
    "\"\"\"\r\n",
    "\r\n",
    "class Mapping:\r\n",
    "    def __init__(self, iterable):\r\n",
    "        self.items_list = []\r\n",
    "        self.__update(iterable)\r\n",
    "\r\n",
    "    def update(self, iterable):\r\n",
    "        for item in iterable:\r\n",
    "            self.items_list.append(item)\r\n",
    "    \r\n",
    "    __update = update  # Private copy of update() method\r\n",
    "\r\n",
    "class MappingSubclass(Mapping):\r\n",
    "        \r\n",
    "        def update(self, keys, values):\r\n",
    "            for item in zip(keys, values):\r\n",
    "                self.items_list.append(item)\r\n",
    "\r\n",
    "\"\"\"\r\n",
    "This example would work even if MappingSubclass were to introduce a __update\r\n",
    "identifier since it is replaced with _Mapping__update in the Mapping class\r\n",
    "and _MappingSubclass__update in the MappingSubclass class respectively.\r\n",
    "\r\n",
    "Note that the mangling rules are designed mostly to avoid accidents; it still\r\n",
    "is possible to access or modify a variable that is considered private.\r\n",
    "\"\"\""
   ],
   "outputs": [],
   "metadata": {}
  },
  {
   "cell_type": "markdown",
   "source": [
    "<h2>Odds and Ends</h2>"
   ],
   "metadata": {}
  },
  {
   "cell_type": "code",
   "execution_count": null,
   "source": [
    "# An empty class definition can be used when a data type similar to the\r\n",
    "# \"struct\" data type in C is needed, bundling together a few data items\r\n",
    "\r\n",
    "class SteveCurrey:\r\n",
    "    pass\r\n",
    "\r\n",
    "threept = SteveCurrey()\r\n",
    "\r\n",
    "threept.rivalname = 'Boston'\r\n",
    "threept.date = '04-June-1322'\r\n",
    "threept.points = 66\r\n",
    "\r\n",
    "\"\"\"\r\n",
    "A piece of Python code that expects a particular abstract data type can often\r\n",
    "be passed a class that emulates the methods of that data type instead. For\r\n",
    "instance, if you have a function that formats some data from a file object,\r\n",
    "you can define a class with methods read() and readline() that get the data\r\n",
    "from a string buffer instead and pass it as an argument.\r\n",
    "\r\n",
    "Instance method objects have attributes too: m.__self__ is the instance object\r\n",
    "with the method m(), and m.__func__ is the function object corresponding to\r\n",
    "the method.\r\n",
    "\"\"\""
   ],
   "outputs": [],
   "metadata": {}
  },
  {
   "cell_type": "markdown",
   "source": [
    "<h2>Iterators</h2>"
   ],
   "metadata": {}
  },
  {
   "cell_type": "code",
   "execution_count": 14,
   "source": [
    "\"\"\"\"\r\n",
    "The use of iterators pervades and unifies Python. Behind the scenes, the for\r\n",
    "statement calls iter() on the container object. The function returns an iterator\r\n",
    "object that defines the method __next__() which accesses elements in the\r\n",
    "container one at a time. When there are no more elements, __next__() raises a\r\n",
    "StopIteration exception which tells the for loop to terminate. You can call the\r\n",
    "__next__() method using the next() built-in function; this example shows how it\r\n",
    "all works:\r\n",
    "\"\"\"\r\n",
    "\r\n",
    "s = 'abc'\r\n",
    "it = iter(s)\r\n",
    "it"
   ],
   "outputs": [
    {
     "output_type": "execute_result",
     "data": {
      "text/plain": [
       "<str_iterator at 0x27196e6e820>"
      ]
     },
     "metadata": {},
     "execution_count": 14
    }
   ],
   "metadata": {}
  },
  {
   "cell_type": "code",
   "execution_count": 15,
   "source": [
    "next(it)"
   ],
   "outputs": [
    {
     "output_type": "execute_result",
     "data": {
      "text/plain": [
       "'a'"
      ]
     },
     "metadata": {},
     "execution_count": 15
    }
   ],
   "metadata": {}
  },
  {
   "cell_type": "code",
   "execution_count": 16,
   "source": [
    "next(it)"
   ],
   "outputs": [
    {
     "output_type": "execute_result",
     "data": {
      "text/plain": [
       "'b'"
      ]
     },
     "metadata": {},
     "execution_count": 16
    }
   ],
   "metadata": {}
  },
  {
   "cell_type": "code",
   "execution_count": 17,
   "source": [
    "next(it)"
   ],
   "outputs": [
    {
     "output_type": "execute_result",
     "data": {
      "text/plain": [
       "'c'"
      ]
     },
     "metadata": {},
     "execution_count": 17
    }
   ],
   "metadata": {}
  },
  {
   "cell_type": "code",
   "execution_count": null,
   "source": [
    "next(it)"
   ],
   "outputs": [],
   "metadata": {}
  },
  {
   "cell_type": "code",
   "execution_count": 24,
   "source": [
    "\"\"\"\r\n",
    "Adding iterator behaviour to your classes\r\n",
    "\r\n",
    "Define an __iter__() method which returns an object with a __next__() method.\r\n",
    "If the class defines __next__(), then __iter__() can just return self:\r\n",
    "\"\"\"\r\n",
    "\r\n",
    "class Reverse:\r\n",
    "    \"\"\"Iterator for looping over a sequence backwards.\"\"\"\r\n",
    "\r\n",
    "    def __init__(self, data):\r\n",
    "        self.data = data\r\n",
    "        self.index = len(data)\r\n",
    "\r\n",
    "    def __iter__(self):\r\n",
    "        return self\r\n",
    "\r\n",
    "    def __next__(self):\r\n",
    "        if self.index == 0:\r\n",
    "            raise StopIteration\r\n",
    "        self.index = self.index - 1\r\n",
    "        return self.data[self.index]\r\n",
    "\r\n",
    "revi = Reverse('spam')\r\n",
    "\r\n",
    "for char in revi:\r\n",
    "    print(char)"
   ],
   "outputs": [
    {
     "output_type": "stream",
     "name": "stdout",
     "text": [
      "m\n",
      "a\n",
      "p\n",
      "s\n"
     ]
    }
   ],
   "metadata": {}
  },
  {
   "cell_type": "markdown",
   "source": [
    "<h2>Generators</h2>"
   ],
   "metadata": {}
  },
  {
   "cell_type": "code",
   "execution_count": 50,
   "source": [
    "\"\"\"\r\n",
    "Generators are simple and powerful tools for creating iterators. They are\r\n",
    "written like regular functions but use the yield statement whenever they want\r\n",
    "to return data. Each time next() is called on it, the generator resumes where\r\n",
    "it left off (it remembers all the data values and which statement was last\r\n",
    "executed).\r\n",
    "\"\"\"\r\n",
    "\r\n",
    "def reverse(data):\r\n",
    "    for index in range(len(data) - 1, -1, -1):  #  Change the values of range\r\n",
    "        yield data[index]                       #  (unrelated)\r\n",
    "\r\n",
    "for char in reverse('golf'):\r\n",
    "    print(char)\r\n",
    "print(\"\\n\\n\")\r\n",
    "for i in range(len('froggie') - 1, -1, -1):\r\n",
    "    print('froggie'[i])\r\n"
   ],
   "outputs": [
    {
     "output_type": "stream",
     "name": "stdout",
     "text": [
      "f\n",
      "l\n",
      "o\n",
      "g\n",
      "\n",
      "\n",
      "\n",
      "e\n",
      "i\n",
      "g\n",
      "g\n",
      "o\n",
      "r\n",
      "f\n"
     ]
    }
   ],
   "metadata": {}
  },
  {
   "cell_type": "markdown",
   "source": [
    "<h2>Generator expressions</h2>"
   ],
   "metadata": {}
  },
  {
   "cell_type": "code",
   "execution_count": 56,
   "source": [
    "\"\"\"\r\n",
    "Some simple generators can be coded succinctly as expressions using a syntax\r\n",
    "similar to list comprehensions but with parentheses instead of square brackets.\r\n",
    "These expressions are designed for situations where the generator is used right\r\n",
    "away by an enclosing function. \r\n",
    "\"\"\"\r\n",
    "\r\n",
    "print(sum(i*i for i in range(10)))\r\n",
    "x_vec = [10, 20, 30]\r\n",
    "y_vec = [11, 22, 33]\r\n",
    "print(sum(x*y for x,y in zip(x_vec, y_vec)))\r\n",
    "\r\n",
    "# uniques = set(word for line in page for word in line.split())\r\n",
    "\r\n",
    "data = 'fwoggie'\r\n",
    "list(data[i] for i in range(len(data)-1, -1, -1))"
   ],
   "outputs": [
    {
     "output_type": "stream",
     "name": "stdout",
     "text": [
      "285\n",
      "1540\n"
     ]
    },
    {
     "output_type": "execute_result",
     "data": {
      "text/plain": [
       "['e', 'i', 'g', 'g', 'o', 'w', 'f']"
      ]
     },
     "metadata": {},
     "execution_count": 56
    }
   ],
   "metadata": {}
  },
  {
   "cell_type": "markdown",
   "source": [
    "# Thank You\r\n",
    "<h2>\r\n",
    "I will try my best to keep this repository updated and add other parts<br>\r\n",
    "of the Python tutorial from the docs that I did not think were immediately<br>\r\n",
    "important or of prime importance. However, for now, other projects call! :')<br>\r\n",
    "I would be absolutely delighted to hear from y'all and invite contributions<br>\r\n",
    "so that we can all work to make this better and more helpful for people<br>\r\n",
    "starting out with Python!<br>\r\n",
    "<br>\r\n",
    "Hope it was fun and engaging, and valuable. Most of the credit certainly<br>\r\n",
    "should go to the Python Tutorial from the Python Docs since most of the<br>\r\n",
    "content in here is almost directly and exactly from that.<br>\r\n",
    "That said, I have tried to make my own additions or omissions, either in<br>\r\n",
    "explanations or code examples, as possible, and can only hope that it added<br>\r\n",
    "some value to this :')<br>\r\n",
    "<br>\r\n",
    "<br>\r\n",
    "</h2>\r\n",
    "\r\n",
    "# Congratulations and all the very best! :)"
   ],
   "metadata": {}
  }
 ],
 "metadata": {
  "orig_nbformat": 4,
  "language_info": {
   "name": "python",
   "version": "3.9.4",
   "mimetype": "text/x-python",
   "codemirror_mode": {
    "name": "ipython",
    "version": 3
   },
   "pygments_lexer": "ipython3",
   "nbconvert_exporter": "python",
   "file_extension": ".py"
  },
  "kernelspec": {
   "name": "python3",
   "display_name": "Python 3.9.4 64-bit"
  },
  "interpreter": {
   "hash": "cfaa36bee6b23c52625142bf31ea28c3ad7325c971be2e267544e946147027d6"
  }
 },
 "nbformat": 4,
 "nbformat_minor": 2
}