{
 "cells": [
  {
   "cell_type": "markdown",
   "source": [
    "<h1>\r\n",
    "Input and Output\r\n",
    "</h1>"
   ],
   "metadata": {}
  },
  {
   "cell_type": "markdown",
   "source": [
    "<h2>Fancier Output Formatting</h2>\r\n",
    "<div style=\"font-size: 15px\">\r\n",
    "Often you'll want more control over the formatting of your output than<br>\r\n",
    "simply printing space-seperated values. There are several ways to format<br>\r\n",
    "output.<br><br>\r\n",
    "Formatted string literals:<br>\r\n",
    "Begin a string with <code>f</code> or <code>F</code> before the opening<br>\r\n",
    "quotation marks. Inside, you can write a python expression between<br>\r\n",
    "<code>{</code> and <code>}</code> characters referring to variables or literals\r\n",
    "</div>"
   ],
   "metadata": {}
  },
  {
   "cell_type": "code",
   "execution_count": 14,
   "source": [
    "year = 2016\r\n",
    "event = 'Referendum'\r\n",
    "statm = f'Results of the {year} {event}'\r\n",
    "print(statm)\r\n",
    "\r\n",
    "# The str.format() method requires more manual effort.\r\n",
    "# The information to be formatted will also have to be specified.\r\n",
    "\r\n",
    "yes_votes = 42_572_654\r\n",
    "no_votes = 43_132_495\r\n",
    "percentagev = yes_votes / (yes_votes + no_votes)\r\n",
    "statm = '{:15} YES Votes {:2.2%}'.format(yes_votes, percentagev)\r\n",
    "print(statm)\r\n",
    "\r\n",
    "# Using slicing and concatenation operations, almost any layout can be\r\n",
    "# achieved"
   ],
   "outputs": [
    {
     "output_type": "stream",
     "name": "stdout",
     "text": [
      "Results of the 2016 Referendum\n",
      "       42572654 YES Votes 49.67%\n"
     ]
    }
   ],
   "metadata": {}
  },
  {
   "cell_type": "markdown",
   "source": [
    "<h2>Fancier Output Formatting</h2>\r\n",
    "<div style=\"font-size: 15px\">\r\n",
    "The <code>str()</code> function is meant to return representations of<br>\r\n",
    "of values whicha re fairly human readable, while <code>repr()</code><br>\r\n",
    "is meant to egnerate representations which can be read by the interpreter<br>\r\n",
    "(or will force a <code>SyntaxError</code> if there is no equivalent syntax)\r\n",
    ".<br><br>\r\n",
    "</div>"
   ],
   "metadata": {}
  },
  {
   "cell_type": "code",
   "execution_count": 26,
   "source": [
    "s = 'Hello, world.'\r\n",
    "print(str(s))\r\n",
    "print(repr(s))\r\n",
    "print(str(1/7))\r\n",
    "\r\n",
    "x = 10*3.25\r\n",
    "y = 200*200\r\n",
    "s = 'The value of x is ' + repr(x) + ', and y is ' + repr(y) + '.'\r\n",
    "print(s)\r\n",
    "hello = 'Hello, world\\n'\r\n",
    "print(repr(hello))\r\n",
    "\r\n",
    "# The argument to repr() may be any python object:\r\n",
    "repr((x, y, ('spam', 'eggs')))"
   ],
   "outputs": [
    {
     "output_type": "stream",
     "name": "stdout",
     "text": [
      "Hello, world.\n",
      "'Hello, world.'\n",
      "0.14285714285714285\n",
      "The value of x is 32.5, and y is 40000.\n",
      "'Hello, world\\n'\n"
     ]
    },
    {
     "output_type": "execute_result",
     "data": {
      "text/plain": [
       "\"(32.5, 40000, ('spam', 'eggs'))\""
      ]
     },
     "metadata": {},
     "execution_count": 26
    }
   ],
   "metadata": {}
  },
  {
   "cell_type": "markdown",
   "source": [
    "<h2>Formatted String literals<h2>\r\n",
    "<div style=\"font-size: 15px\">\r\n",
    "Also called f-strings, these let you include the value of Python expressions<br>\r\n",
    "inside a string by prefixing the string with <code>f</code> or <code>F</code><br>\r\n",
    "and using as <code>{}:expression}</code>"
   ],
   "metadata": {}
  },
  {
   "cell_type": "code",
   "execution_count": 29,
   "source": [
    "valrand = 3.142425782819\r\n",
    "print(f'The value of pi is approximately {valrand:.3f}.')\r\n",
    "\r\n",
    "# Passing an integer after ':' will cause that field to be a minimum\r\n",
    "# number of characters wide. This is useful for making columns line up.\r\n",
    "\r\n",
    "table = {'Sjoerd': 4127, 'Jack': 4098, 'Dcab': 7678}\r\n",
    "for name, phone in table.items():\r\n",
    "    print(f'{name:10} ==> {phone:10d}')\r\n",
    "\r\n",
    "# Other modifiers can be sued to convert the value before it is formatted.\r\n",
    "# '!a' applies ascii(), '!s' applies str() and '!r' applies repr()\r\n",
    "\r\n",
    "animals = 'eels'\r\n",
    "print(f'My hovercraft is full of {animals}.')\r\n",
    "print(f'My hovercraft is full of {animals!r}.')  # notice the output carefully"
   ],
   "outputs": [
    {
     "output_type": "stream",
     "name": "stdout",
     "text": [
      "The value of pi is approximately 3.142.\n",
      "Sjoerd     ==>       4127\n",
      "Jack       ==>       4098\n",
      "Dcab       ==>       7678\n",
      "My hovercraft is full of eels.\n",
      "My hovercraft is full of 'eels'.\n"
     ]
    }
   ],
   "metadata": {}
  },
  {
   "cell_type": "markdown",
   "source": [
    "<h2>str.format()</h2>\r\n",
    "<div style=\"font-size: 15px\">\r\n",
    "</div>"
   ],
   "metadata": {}
  },
  {
   "cell_type": "code",
   "execution_count": 6,
   "source": [
    "print('We are the {} who say \"{}!\"'.format('knights', 'Yeee'))\r\n",
    "print('{0} and {1}'.format('spam', 'eggs'))\r\n",
    "print('{1} and {0}'.format('spam', 'eggs'))\r\n",
    "print('This {juice} is actually {opinion} tbh.'.format( juice='article',\r\n",
    "      opinion='interesting'))"
   ],
   "outputs": [
    {
     "output_type": "stream",
     "name": "stdout",
     "text": [
      "We are the knights who say \"Yeee!\"\n",
      "spam and eggs\n",
      "eggs and spam\n",
      "This article is actually interesting tbh.\n"
     ]
    }
   ],
   "metadata": {}
  },
  {
   "cell_type": "markdown",
   "source": [
    "<h2>Manual string formatting</h2>\r\n",
    "<div style=\"font-size: 15px\">\r\n",
    ".<br><br>\r\n",
    "</div>"
   ],
   "metadata": {}
  },
  {
   "cell_type": "code",
   "execution_count": 14,
   "source": [
    "for x in range(1, 11):\r\n",
    "    print(repr(x).rjust(2), repr(x*x).rjust(3), end=' ' )\r\n",
    "    print(repr(x*x*x).rjust(4))\r\n",
    "\r\n",
    "# The str.rjust() method of string objects right-justifies\r\n",
    "# a string in a field of a given width by padding it with spaces on the left.\r\n",
    "# There are similar methods str.ljust() and str.center(). These methods do\r\n",
    "# not write anything, they just return a new string. If the input string is\r\n",
    "# too long, they don’t truncate it, but return it unchanged\r\n",
    "\r\n",
    "# The modulo operator % can also be used for string formatting.\r\n",
    "# Given a string with %, instances of % in string are replaced with values.\r\n",
    "# Commonly known as string interpolation\r\n",
    "\r\n",
    "valrand = 3.142425782819\r\n",
    "print(\"The value of a random thing is approximately %5.3f\" % valrand)"
   ],
   "outputs": [
    {
     "output_type": "stream",
     "name": "stdout",
     "text": [
      " 1   1    1\n",
      " 2   4    8\n",
      " 3   9   27\n",
      " 4  16   64\n",
      " 5  25  125\n",
      " 6  36  216\n",
      " 7  49  343\n",
      " 8  64  512\n",
      " 9  81  729\n",
      "10 100 1000\n",
      "The value of a random thing is approximately 3.142\n"
     ]
    }
   ],
   "metadata": {}
  }
 ],
 "metadata": {
  "orig_nbformat": 4,
  "language_info": {
   "name": "python",
   "version": "3.9.4",
   "mimetype": "text/x-python",
   "codemirror_mode": {
    "name": "ipython",
    "version": 3
   },
   "pygments_lexer": "ipython3",
   "nbconvert_exporter": "python",
   "file_extension": ".py"
  },
  "kernelspec": {
   "name": "python3",
   "display_name": "Python 3.9.4 64-bit"
  },
  "interpreter": {
   "hash": "cfaa36bee6b23c52625142bf31ea28c3ad7325c971be2e267544e946147027d6"
  }
 },
 "nbformat": 4,
 "nbformat_minor": 2
}