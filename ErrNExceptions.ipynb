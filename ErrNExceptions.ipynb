{
 "cells": [
  {
   "cell_type": "markdown",
   "source": [
    "<h1>Errors and exceptions</h1>"
   ],
   "metadata": {}
  },
  {
   "cell_type": "markdown",
   "source": [
    "<div style=\"font-size: 15px\">\r\n",
    "There are (at least) two distinguishable kinds of errors: syntax errors and<br>\r\n",
    "exceptions.\r\n",
    "</div>"
   ],
   "metadata": {}
  },
  {
   "cell_type": "markdown",
   "source": [
    "<h2>Syntax Errors</h2>\r\n",
    "<div style=\"font-size: 15px\">\r\n",
    "Syntax errors, also known as parsing errors, are perhaps the most common kind<br>\r\n",
    "of complaint you get while you are still Learning Python (even after that<br> though!)\r\n",
    "</div>"
   ],
   "metadata": {}
  },
  {
   "cell_type": "code",
   "execution_count": 14,
   "source": [
    "while True print(\"Hello World\")"
   ],
   "outputs": [
    {
     "output_type": "error",
     "ename": "SyntaxError",
     "evalue": "invalid syntax (Temp/ipykernel_13016/236261639.py, line 1)",
     "traceback": [
      "\u001b[1;36m  File \u001b[1;32m\"C:\\Users\\SECOND~1\\AppData\\Local\\Temp/ipykernel_13016/236261639.py\"\u001b[1;36m, line \u001b[1;32m1\u001b[0m\n\u001b[1;33m    while True print(\"Hello World\")\u001b[0m\n\u001b[1;37m               ^\u001b[0m\n\u001b[1;31mSyntaxError\u001b[0m\u001b[1;31m:\u001b[0m invalid syntax\n"
     ]
    }
   ],
   "metadata": {}
  },
  {
   "cell_type": "markdown",
   "source": [
    "<div style=\"font-size: 15px\">\r\n",
    "The parser repeats the offending line and displays a little 'arrow' pointing<br>\r\n",
    "at the earliest point in the line where the error was detected. The error is<br>\r\n",
    "caused by (or at least detected at) the token preceding the arrow: in the<br>\r\n",
    "example, the error is detected at the function <code>print()</code> since<br>\r\n",
    "a colon (':') is missing before it. File name and line nmber are printed so<br>\r\n",
    "you know where to look in case the input came from a script.\r\n",
    "</div>"
   ],
   "metadata": {}
  },
  {
   "cell_type": "markdown",
   "source": [
    "<h2>Exceptions</h2>\r\n",
    "<div style=\"font-size: 15px\">\r\n",
    "Even if a statement or expression is syntactically correct, it may cause an<br>\r\n",
    "error when an attempt is made to execute it. Errors detected during execution<br>\r\n",
    "are called exceptions and are not unconditionally fatal. Most exceptions are not handled by programs and result in error messages.\r\n",
    "</div>"
   ],
   "metadata": {}
  },
  {
   "cell_type": "code",
   "execution_count": 2,
   "source": [
    "10*(1/0)"
   ],
   "outputs": [
    {
     "output_type": "error",
     "ename": "ZeroDivisionError",
     "evalue": "division by zero",
     "traceback": [
      "\u001b[1;31m---------------------------------------------------------------------------\u001b[0m",
      "\u001b[1;31mZeroDivisionError\u001b[0m                         Traceback (most recent call last)",
      "\u001b[1;32mC:\\Users\\SECOND~1\\AppData\\Local\\Temp/ipykernel_13016/715853643.py\u001b[0m in \u001b[0;36m<module>\u001b[1;34m\u001b[0m\n\u001b[1;32m----> 1\u001b[1;33m \u001b[1;36m10\u001b[0m\u001b[1;33m*\u001b[0m\u001b[1;33m(\u001b[0m\u001b[1;36m1\u001b[0m\u001b[1;33m/\u001b[0m\u001b[1;36m0\u001b[0m\u001b[1;33m)\u001b[0m\u001b[1;33m\u001b[0m\u001b[1;33m\u001b[0m\u001b[0m\n\u001b[0m",
      "\u001b[1;31mZeroDivisionError\u001b[0m: division by zero"
     ]
    }
   ],
   "metadata": {}
  },
  {
   "cell_type": "code",
   "execution_count": 5,
   "source": [
    "4 + spam*3"
   ],
   "outputs": [
    {
     "output_type": "error",
     "ename": "NameError",
     "evalue": "name 'spam' is not defined",
     "traceback": [
      "\u001b[1;31m---------------------------------------------------------------------------\u001b[0m",
      "\u001b[1;31mNameError\u001b[0m                                 Traceback (most recent call last)",
      "\u001b[1;32mC:\\Users\\SECOND~1\\AppData\\Local\\Temp/ipykernel_13016/2481180859.py\u001b[0m in \u001b[0;36m<module>\u001b[1;34m\u001b[0m\n\u001b[1;32m----> 1\u001b[1;33m \u001b[1;36m4\u001b[0m \u001b[1;33m+\u001b[0m \u001b[0mspam\u001b[0m\u001b[1;33m*\u001b[0m\u001b[1;36m3\u001b[0m\u001b[1;33m\u001b[0m\u001b[1;33m\u001b[0m\u001b[0m\n\u001b[0m",
      "\u001b[1;31mNameError\u001b[0m: name 'spam' is not defined"
     ]
    }
   ],
   "metadata": {}
  },
  {
   "cell_type": "code",
   "execution_count": 6,
   "source": [
    "'2' + 2"
   ],
   "outputs": [
    {
     "output_type": "error",
     "ename": "TypeError",
     "evalue": "can only concatenate str (not \"int\") to str",
     "traceback": [
      "\u001b[1;31m---------------------------------------------------------------------------\u001b[0m",
      "\u001b[1;31mTypeError\u001b[0m                                 Traceback (most recent call last)",
      "\u001b[1;32mC:\\Users\\SECOND~1\\AppData\\Local\\Temp/ipykernel_13016/209420021.py\u001b[0m in \u001b[0;36m<module>\u001b[1;34m\u001b[0m\n\u001b[1;32m----> 1\u001b[1;33m \u001b[1;34m'2'\u001b[0m \u001b[1;33m+\u001b[0m \u001b[1;36m2\u001b[0m\u001b[1;33m\u001b[0m\u001b[1;33m\u001b[0m\u001b[0m\n\u001b[0m",
      "\u001b[1;31mTypeError\u001b[0m: can only concatenate str (not \"int\") to str"
     ]
    }
   ],
   "metadata": {}
  },
  {
   "cell_type": "markdown",
   "source": [
    "<div style=\"font-size: 15px\">\r\n",
    "The string printed as exception type is the name of the built-in exception<br>\r\n",
    "that occured, for all built in exceptions. This is a useful, though not<br>\r\n",
    "necessary convention for user-defined exceptions as well\r\n",
    "</div>"
   ],
   "metadata": {}
  },
  {
   "cell_type": "markdown",
   "source": [
    "<h2>Handling exceptions</h2>"
   ],
   "metadata": {}
  },
  {
   "cell_type": "code",
   "execution_count": 10,
   "source": [
    "while True:\r\n",
    "    try:\r\n",
    "        x = int(input(\"Please enter a number: \"))\r\n",
    "        break\r\n",
    "    except ValueError:\r\n",
    "        print(\"Oops! That wasn't a valud number. Try again\")"
   ],
   "outputs": [
    {
     "output_type": "stream",
     "name": "stdout",
     "text": [
      "Oops! That wasn't a valud number. Try again\n",
      "Oops! That wasn't a valud number. Try again\n"
     ]
    }
   ],
   "metadata": {}
  },
  {
   "cell_type": "markdown",
   "source": [
    "<div style=\"font-size: 15px\">\r\n",
    "The <code>try</code> statement works as follows:\r\n",
    "<ul>\r\n",
    "First the try clause (statements between the try and except keywords) is<br>\r\n",
    "executed.<br>\r\n",
    "If no exception occurs, the except clause is skipped and execution of the<br>\r\n",
    "<code>try</code> statement is finished.<br>\r\n",
    "If an exception occurs during execution of the try clause, the rest of the<br>\r\n",
    "clause is skipped. Then if its type matches the exception named after the<br>\r\n",
    "<code>except</code> keyword, the except clause is executed, and then<br>\r\n",
    "execution continue after the <code>try</code> statement.<br>\r\n",
    "If an exception occurs which does not match the exception named in the<br>\r\n",
    "except clause, it is passed on to outer <code>try</code> statements; if no<br>\r\n",
    "handler is found, it is an <i>unhandled exception</i> and execution stops<br>\r\n",
    "with a message.\r\n",
    "</ul>\r\n",
    "A <code>try</code> statement may have more than one except clause, to specify<br>\r\n",
    "handlers for different exceptions. At most one handler will be executed.<br>\r\n",
    "Handlers only handle exceptions that occur in the corresponding try clause,<br>\r\n",
    "not in other handlers of the same <code>try</code> statement. An except<br>\r\n",
    "clause may name multiple exceptions as a parenthesized tuple, for example:<br>\r\n",
    "<br>\r\n",
    "<blockquote>\r\n",
    "<code>\r\n",
    "except (RuntimeError, TypeError, NameError):<br>\r\n",
    "  pass\r\n",
    "</code>\r\n",
    "</blockquote>\r\n",
    "<br>\r\n",
    "(Used Alt + 2 + 5 + 5 for indent. Clear space and re-indent if copying code<br>\r\n",
    "snippet)<br>\r\n",
    "<br>\r\n",
    "A class in an except clause is compatible with an exception if it is the<br>\r\n",
    "same class or a base class thereof (but not the other way around — an<br>\r\n",
    "except clause listing a derived class is not compatible with a base class).<br>\r\n",
    "For example, the following code will print B, C, D in that order:<br>\r\n",
    "</div>"
   ],
   "metadata": {}
  },
  {
   "cell_type": "code",
   "execution_count": 12,
   "source": [
    "class B(Exception):\r\n",
    "    pass\r\n",
    "\r\n",
    "class C(B):\r\n",
    "    pass\r\n",
    "\r\n",
    "class D(C):\r\n",
    "    pass\r\n",
    "\r\n",
    "for cls in [B, C, D]:\r\n",
    "    try:\r\n",
    "        raise cls()\r\n",
    "    except D:\r\n",
    "        print(\"D\")\r\n",
    "    except C:\r\n",
    "        print(\"C\")\r\n",
    "    except B:\r\n",
    "        print(\"B\")\r\n",
    "\r\n",
    "print(\"With order reversed: \")\r\n",
    "class B(Exception):\r\n",
    "    pass\r\n",
    "\r\n",
    "class C(B):\r\n",
    "    pass\r\n",
    "\r\n",
    "class D(C):\r\n",
    "    pass\r\n",
    "\r\n",
    "for cls in [B, C, D]:\r\n",
    "    try:\r\n",
    "        raise cls()\r\n",
    "    except B:\r\n",
    "        print(\"B\")\r\n",
    "    except D:\r\n",
    "        print(\"D\")\r\n",
    "    except C:\r\n",
    "        print(\"C\")\r\n",
    "\r\n",
    "# The first matching clause is triggered"
   ],
   "outputs": [
    {
     "output_type": "stream",
     "name": "stdout",
     "text": [
      "B\n",
      "C\n",
      "D\n",
      "With order reversed: \n",
      "B\n",
      "B\n",
      "B\n"
     ]
    }
   ],
   "metadata": {}
  }
 ],
 "metadata": {
  "orig_nbformat": 4,
  "language_info": {
   "name": "python",
   "version": "3.9.4",
   "mimetype": "text/x-python",
   "codemirror_mode": {
    "name": "ipython",
    "version": 3
   },
   "pygments_lexer": "ipython3",
   "nbconvert_exporter": "python",
   "file_extension": ".py"
  },
  "kernelspec": {
   "name": "python3",
   "display_name": "Python 3.9.4 64-bit"
  },
  "interpreter": {
   "hash": "cfaa36bee6b23c52625142bf31ea28c3ad7325c971be2e267544e946147027d6"
  }
 },
 "nbformat": 4,
 "nbformat_minor": 2
}