{
 "cells": [
  {
   "cell_type": "markdown",
   "source": [
    "<h1>Errors and exceptions</h1>"
   ],
   "metadata": {}
  },
  {
   "cell_type": "markdown",
   "source": [
    "<div style=\"font-size: 15px\">\r\n",
    "There are (at least) two distinguishable kinds of errors: syntax errors and<br>\r\n",
    "exceptions.\r\n",
    "</div>"
   ],
   "metadata": {}
  },
  {
   "cell_type": "markdown",
   "source": [
    "<h2>Syntax Errors</h2>\r\n",
    "<div style=\"font-size: 15px\">\r\n",
    "Syntax errors, also known as parsing errors, are perhaps the most common kind<br>\r\n",
    "of complaint you get while you are still Learning Python (even after that<br> though!)\r\n",
    "</div>"
   ],
   "metadata": {}
  },
  {
   "cell_type": "code",
   "execution_count": null,
   "source": [
    "while True print(\"Hello World\")"
   ],
   "outputs": [],
   "metadata": {}
  },
  {
   "cell_type": "markdown",
   "source": [
    "<div style=\"font-size: 15px\">\r\n",
    "The parser repeats the offending line and displays a little 'arrow' pointing<br>\r\n",
    "at the earliest point in the line where the error was detected. The error is<br>\r\n",
    "caused by (or at least detected at) the token preceding the arrow: in the<br>\r\n",
    "example, the error is detected at the function <code>print()</code> since<br>\r\n",
    "a colon (':') is missing before it. File name and line nmber are printed so<br>\r\n",
    "you know where to look in case the input came from a script.\r\n",
    "</div>"
   ],
   "metadata": {}
  },
  {
   "cell_type": "markdown",
   "source": [
    "<h2>Exceptions</h2>\r\n",
    "<div style=\"font-size: 15px\">\r\n",
    "Even if a statement or expression is syntactically correct, it may cause an<br>\r\n",
    "error when an attempt is made to execute it. Errors detected during execution<br>\r\n",
    "are called exceptions and are not unconditionally fatal. Most exceptions are not handled by programs and result in error messages.\r\n",
    "</div>"
   ],
   "metadata": {}
  },
  {
   "cell_type": "code",
   "execution_count": null,
   "source": [
    "10*(1/0)"
   ],
   "outputs": [],
   "metadata": {}
  },
  {
   "cell_type": "code",
   "execution_count": null,
   "source": [
    "4 + spam*3"
   ],
   "outputs": [],
   "metadata": {}
  },
  {
   "cell_type": "code",
   "execution_count": null,
   "source": [
    "'2' + 2"
   ],
   "outputs": [],
   "metadata": {}
  },
  {
   "cell_type": "markdown",
   "source": [
    "<div style=\"font-size: 15px\">\r\n",
    "The string printed as exception type is the name of the built-in exception<br>\r\n",
    "that occured, for all built in exceptions. This is a useful, though not<br>\r\n",
    "necessary convention for user-defined exceptions as well\r\n",
    "</div>"
   ],
   "metadata": {}
  },
  {
   "cell_type": "markdown",
   "source": [
    "<h2>Handling exceptions</h2>"
   ],
   "metadata": {}
  },
  {
   "cell_type": "code",
   "execution_count": 10,
   "source": [
    "while True:\r\n",
    "    try:\r\n",
    "        x = int(input(\"Please enter a number: \"))\r\n",
    "        break\r\n",
    "    except ValueError:\r\n",
    "        print(\"Oops! That wasn't a valud number. Try again\")"
   ],
   "outputs": [
    {
     "output_type": "stream",
     "name": "stdout",
     "text": [
      "Oops! That wasn't a valud number. Try again\n",
      "Oops! That wasn't a valud number. Try again\n"
     ]
    }
   ],
   "metadata": {}
  },
  {
   "cell_type": "markdown",
   "source": [
    "<div style=\"font-size: 15px\">\r\n",
    "The <code>try</code> statement works as follows:\r\n",
    "<ul>\r\n",
    "First the try clause (statements between the try and except keywords) is<br>\r\n",
    "executed.<br>\r\n",
    "If no exception occurs, the except clause is skipped and execution of the<br>\r\n",
    "<code>try</code> statement is finished.<br>\r\n",
    "If an exception occurs during execution of the try clause, the rest of the<br>\r\n",
    "clause is skipped. Then if its type matches the exception named after the<br>\r\n",
    "<code>except</code> keyword, the except clause is executed, and then<br>\r\n",
    "execution continue after the <code>try</code> statement.<br>\r\n",
    "If an exception occurs which does not match the exception named in the<br>\r\n",
    "except clause, it is passed on to outer <code>try</code> statements; if no<br>\r\n",
    "handler is found, it is an <i>unhandled exception</i> and execution stops<br>\r\n",
    "with a message.\r\n",
    "</ul>\r\n",
    "A <code>try</code> statement may have more than one except clause, to specify<br>\r\n",
    "handlers for different exceptions. At most one handler will be executed.<br>\r\n",
    "Handlers only handle exceptions that occur in the corresponding try clause,<br>\r\n",
    "not in other handlers of the same <code>try</code> statement. An except<br>\r\n",
    "clause may name multiple exceptions as a parenthesized tuple, for example:<br>\r\n",
    "<br>\r\n",
    "<blockquote>\r\n",
    "<code>\r\n",
    "except (RuntimeError, TypeError, NameError):<br>\r\n",
    "  pass\r\n",
    "</code>\r\n",
    "</blockquote>\r\n",
    "<br>\r\n",
    "(Used Alt + 2 + 5 + 5 for indent. Clear space and re-indent if copying code<br>\r\n",
    "snippet)<br>\r\n",
    "<br>\r\n",
    "A class in an except clause is compatible with an exception if it is the<br>\r\n",
    "same class or a base class thereof (but not the other way around — an<br>\r\n",
    "except clause listing a derived class is not compatible with a base class).<br>\r\n",
    "For example, the following code will print B, C, D in that order:<br>\r\n",
    "</div>"
   ],
   "metadata": {}
  },
  {
   "cell_type": "code",
   "execution_count": 1,
   "source": [
    "class B(Exception):\r\n",
    "    pass\r\n",
    "\r\n",
    "class C(B):\r\n",
    "    pass\r\n",
    "\r\n",
    "class D(C):\r\n",
    "    pass\r\n",
    "\r\n",
    "for cls in [B, C, D]:\r\n",
    "    try:\r\n",
    "        raise cls()\r\n",
    "    except D:\r\n",
    "        print(\"D\")\r\n",
    "    except C:\r\n",
    "        print(\"C\")\r\n",
    "    except B:\r\n",
    "        print(\"B\")\r\n",
    "\r\n",
    "print(\"With order reversed: \")\r\n",
    "class B(Exception):\r\n",
    "    pass\r\n",
    "\r\n",
    "class C(B):\r\n",
    "    pass\r\n",
    "\r\n",
    "class D(C):\r\n",
    "    pass\r\n",
    "\r\n",
    "for cls in [B, C, D]:\r\n",
    "    try:\r\n",
    "        raise cls()\r\n",
    "    except B:\r\n",
    "        print(\"B\")\r\n",
    "    except D:\r\n",
    "        print(\"D\")\r\n",
    "    except C:\r\n",
    "        print(\"C\")\r\n",
    "\r\n",
    "# The first matching clause is triggered\r\n",
    "\r\n",
    "# Blanket except clause (use with caution):\r\n",
    "\r\n",
    "import sys\r\n",
    "\r\n",
    "try:\r\n",
    "    f = open('myfile.txt')\r\n",
    "    s = f.readline()\r\n",
    "    i = int(s.strip())\r\n",
    "except OSError as err:\r\n",
    "    print(\"OS error: {0}\".format(err))\r\n",
    "except ValueError:\r\n",
    "    print(\"Could not convert data to an integer.\")\r\n",
    "except:\r\n",
    "    print(\"Unexpected error:\", sys.exc_info()[0])\r\n",
    "    raise"
   ],
   "outputs": [
    {
     "output_type": "stream",
     "name": "stdout",
     "text": [
      "B\n",
      "C\n",
      "D\n",
      "With order reversed: \n",
      "B\n",
      "B\n",
      "B\n",
      "OS error: [Errno 2] No such file or directory: 'myfile.txt'\n"
     ]
    }
   ],
   "metadata": {}
  },
  {
   "cell_type": "code",
   "execution_count": null,
   "source": [
    "# Optional else clause, when present must follow all except clauses\r\n",
    "# Can be used when (e.g.:) a piece of code that must be executed when the try\r\n",
    "# clause does not raise an exception\r\n",
    "\r\n",
    "for arg in sys.argv[1:]:\r\n",
    "    try:\r\n",
    "        f = open(arg, 'r')\r\n",
    "    except OSError:\r\n",
    "        print('cannot open', arg)\r\n",
    "    else:\r\n",
    "        print(arg, 'has', len(f.readlines()), 'lines') # Opened successfully\r\n",
    "        f.close()"
   ],
   "outputs": [],
   "metadata": {}
  },
  {
   "cell_type": "code",
   "execution_count": 4,
   "source": [
    "# The except clause may specify a variable after the exception name.\r\n",
    "# The variable is bound to an exception instance with the arguments stored in\r\n",
    "# instance.args.\r\n",
    "# One may also instantiate an exception first before raising it and add any\r\n",
    "# attributes to it as desired\r\n",
    "\r\n",
    "try:\r\n",
    "    raise Exception('spam', 'eggs')\r\n",
    "except Exception as inst:\r\n",
    "    print(type(inst))\r\n",
    "    print(inst.args)\r\n",
    "    print(inst)\r\n",
    "\r\n",
    "# The exception instance arguments stored in .args\r\n",
    "# __str__ allows args to be printed directly, but may be overridden in\r\n",
    "# exception subclasses unpack args\r\n",
    "\r\n",
    "    x, y = inst.args\r\n",
    "    print('x = ', x)\r\n",
    "    print('y = ', y)\r\n",
    "\r\n",
    "print('\\n\\n')\r\n",
    "# Exceptions occuring in functions inside try clause\r\n",
    "def this_fails():\r\n",
    "    \"\"\"What a surprise\"\"\"\r\n",
    "    x = 1/0\r\n",
    "\r\n",
    "try:\r\n",
    "    this_fails()\r\n",
    "except ZeroDivisionError as err:\r\n",
    "    print(\"handling run-time error:\", err)\r\n"
   ],
   "outputs": [
    {
     "output_type": "stream",
     "name": "stdout",
     "text": [
      "<class 'Exception'>\n",
      "('spam', 'eggs')\n",
      "('spam', 'eggs')\n",
      "x =  spam\n",
      "y =  eggs\n",
      "\n",
      "\n",
      "\n",
      "handling run-time error: division by zero\n"
     ]
    }
   ],
   "metadata": {}
  },
  {
   "cell_type": "markdown",
   "source": [
    "<h2>Raising Exceptions</h2>"
   ],
   "metadata": {}
  },
  {
   "cell_type": "code",
   "execution_count": null,
   "source": [
    "# The raise exception allows the programmer to force a specified exception to\r\n",
    "# occur.\r\n",
    "\r\n",
    "# raise NameError('HiThere')\r\n",
    "\r\n",
    "# The lone argument to raise is the exception to be raised. If an exception\r\n",
    "# class is passed, it will be implicitly instantiated by calling its constructor\r\n",
    "# with no arguments:\r\n",
    "\r\n",
    "raise ValueError"
   ],
   "outputs": [],
   "metadata": {}
  },
  {
   "cell_type": "code",
   "execution_count": null,
   "source": [
    "# If you need to determine whether an exception was raised but don't intend to\r\n",
    "# handle it, a simpler form of the raise statement allows you to re-raise the\r\n",
    "# exception:\r\n",
    "\r\n",
    "try:\r\n",
    "    raise NameError('Hola')\r\n",
    "except NameError:\r\n",
    "    print('An exception flew by')\r\n",
    "    raise"
   ],
   "outputs": [],
   "metadata": {}
  },
  {
   "cell_type": "markdown",
   "source": [
    "<h2>Exception Chaining</h2>"
   ],
   "metadata": {}
  },
  {
   "cell_type": "code",
   "execution_count": null,
   "source": [
    "# The raise statements allows an optional 'from' which enables chaining\r\n",
    "# exceptions\r\n",
    "\r\n",
    "def func():\r\n",
    "    raise IOError\r\n",
    "\r\n",
    "try:\r\n",
    "    func()\r\n",
    "except IOError as blahblah:\r\n",
    "    raise RuntimeError('Failed to open database') from blahblah\r\n"
   ],
   "outputs": [],
   "metadata": {}
  },
  {
   "cell_type": "code",
   "execution_count": null,
   "source": [
    "# Exception chaining happens automatically when an exception is raised\r\n",
    "# inside an except or finally section\r\n",
    "# Exception chaining can be disabled by using 'from None'\r\n",
    "\r\n",
    "try:\r\n",
    "    open('nonexistentfile.txt')\r\n",
    "except IOError:\r\n",
    "    raise RuntimeError from None"
   ],
   "outputs": [],
   "metadata": {}
  },
  {
   "cell_type": "markdown",
   "source": [
    "<h2>User defined Exceptions</h2>\r\n",
    "<div style=\"font-size: 15px\">\r\n",
    "Programs may name their own exceptions by creating a new exception class<br> Exceptions should typically be derived from the <code>Exception</code>\r\n",
    "class, either directly or indirectly.<br>\r\n",
    "<br>\r\n",
    "Exception classes can be defined which do anything any other class can<br>\r\n",
    "do, but are usually kept simple, often only offering a number of<br>\r\n",
    "attributes that allow information about the error to be extracted by<br>\r\n",
    "handlers for the exception. When creating a module that can raise several<br>\r\n",
    "distinct errors, a common practice is to create a base class for<br>\r\n",
    "exceptions defined by that module, and subclass that to create specific<br>\r\n",
    "exception classes for different error conditions:\r\n",
    "</div>"
   ],
   "metadata": {}
  },
  {
   "cell_type": "code",
   "execution_count": null,
   "source": [
    "class Error(Exception):\r\n",
    "    \"\"\"Base class for exceptions in this module\"\"\"\r\n",
    "    pass\r\n",
    "\r\n",
    "class InputError(Error):\r\n",
    "    \"\"\"Exception raised for errors in the input:\r\n",
    "    \r\n",
    "    Attributes:\r\n",
    "        expression -- input expression in which the error occured\r\n",
    "        message -- explanation of the error\r\n",
    "    \"\"\"\r\n",
    "\r\n",
    "    def __init__(self, expression, message):\r\n",
    "        self.expression = expression\r\n",
    "        self.message = message\r\n",
    "\r\n",
    "class TransitionError(Error):\r\n",
    "    \"\"\"Raised when an operation attempts a state transition that's not allowed\r\n",
    "    \r\n",
    "    Attributes:\r\n",
    "        previous -- state at beginning of transition\r\n",
    "        next -- attempted new state\r\n",
    "        message -- explanation of why the specific transition is not allowed\r\n",
    "    \"\"\"\r\n",
    "\r\n",
    "    def __init__(self, previous, next, message):\r\n",
    "        self.previous = previous\r\n",
    "        self.next = next\r\n",
    "        self.message = message"
   ],
   "outputs": [],
   "metadata": {}
  },
  {
   "cell_type": "markdown",
   "source": [
    "<h2>Clean up actions</h2>\r\n",
    "<div style=\"font-size: 15px\">\r\n",
    "The <code>try</code> statement has another optional clause which is intended<br>\r\n",
    "to define clean-up actions that must be executed under all circumstances.\r\n",
    "</div>"
   ],
   "metadata": {}
  },
  {
   "cell_type": "code",
   "execution_count": null,
   "source": [
    "try:\r\n",
    "    raise KeyboardInterrupt\r\n",
    "finally:\r\n",
    "    print('See ya later, World!')\r\n"
   ],
   "outputs": [],
   "metadata": {}
  },
  {
   "cell_type": "markdown",
   "source": [
    "<div style=\"font-size: 15px\">\r\n",
    "If a <code>finally</code> clause is present, the <code>finally</code> clause<br>\r\n",
    "will execute as the last task before the <code>try</code> statement<br>\r\n",
    "completes. The <code>finally</code> clause runs whether or not the<br>\r\n",
    "<code>try</code> statement produces an exception. The following points<br>\r\n",
    "discuss more complex cases when an exception occurs:<br>\r\n",
    "<ul>\r\n",
    "<li>If an exception occurs during execution of the try clause, the exception<br>\r\n",
    "may be handled by an except clause. If the exception is not handled by an<br>\r\n",
    "except clause, the exception is re-raised after the finally clause has<br>\r\n",
    "been executed.\r\n",
    "</li>\r\n",
    "<li>An exception could occur during execution of an except or else clause.<br>\r\n",
    "Again, the exception is re-raised after the finally clause has been executed.\r\n",
    "</li>\r\n",
    "<li>If the try statement reaches a break, continue or return statement, the<br>\r\n",
    "finally clause will execute just prior to the break, continue or return<br>\r\n",
    "statement’s execution.\r\n",
    "</li>\r\n",
    "<li>If a finally clause includes a return statement, the returned value will<br>\r\n",
    "be the one from the finally clause’s return statement, not the value from<br>\r\n",
    "the try clause’s return statement.\r\n",
    "</li>\r\n",
    "</ul>\r\n",
    "</div>"
   ],
   "metadata": {}
  },
  {
   "cell_type": "code",
   "execution_count": 10,
   "source": [
    "def bool_return():\r\n",
    "    try:\r\n",
    "        return True\r\n",
    "    finally:\r\n",
    "        return False\r\n",
    "bool_return()"
   ],
   "outputs": [
    {
     "output_type": "execute_result",
     "data": {
      "text/plain": [
       "False"
      ]
     },
     "metadata": {},
     "execution_count": 10
    }
   ],
   "metadata": {}
  },
  {
   "cell_type": "code",
   "execution_count": 19,
   "source": [
    "def divido(x, y):\r\n",
    "    try:\r\n",
    "        result = x/y\r\n",
    "    except ZeroDivisionError:\r\n",
    "        print(\"division by zero!\")\r\n",
    "    else:\r\n",
    "        print(\"result is\", result)\r\n",
    "    finally:\r\n",
    "        print(\"This is the finally clause\")\r\n",
    "\r\n",
    "divido(2, 1)"
   ],
   "outputs": [
    {
     "output_type": "stream",
     "name": "stdout",
     "text": [
      "result is 2.0\n",
      "This is the finally clause\n"
     ]
    }
   ],
   "metadata": {}
  },
  {
   "cell_type": "code",
   "execution_count": 18,
   "source": [
    "divido(2, 0)"
   ],
   "outputs": [
    {
     "output_type": "stream",
     "name": "stdout",
     "text": [
      "division by zero!\n",
      "This is the finally clause\n"
     ]
    }
   ],
   "metadata": {}
  },
  {
   "cell_type": "code",
   "execution_count": null,
   "source": [
    "divido('2', '1')"
   ],
   "outputs": [],
   "metadata": {}
  },
  {
   "cell_type": "markdown",
   "source": [
    "<div style=\"font-size: 15px\">\r\n",
    "Observe that the finally clause is executed in any event. The TypeError<br>\r\n",
    "raised by dividing two strings is not handled by the except clause and<br>\r\n",
    "therefore re-raised after the finally clause has been executed.\r\n",
    "</div>"
   ],
   "metadata": {}
  },
  {
   "cell_type": "markdown",
   "source": [
    "<h2>Pre-defined Clean-up Actions</h2>"
   ],
   "metadata": {}
  },
  {
   "cell_type": "code",
   "execution_count": null,
   "source": [
    "import os\r\n",
    "pathtofile = os.path.abspath('./IOandfiles/workfile.txt')\r\n",
    "\r\n",
    "# For this we will take into consideration a case we see in th IOandfiles\r\n",
    "# tutorial for handling files\r\n",
    "\r\n",
    "with open(pathtofile) as f:\r\n",
    "    for line in f:\r\n",
    "        print(line, end='')\r\n",
    "\r\n",
    "# After the statement is executed, the file object f is always closed, even\r\n",
    "# even if a problem was encountered while processing the lines. Objects which,\r\n",
    "# like files, provide predefined clean-up actions will indicate this in their\r\n",
    "# documentation"
   ],
   "outputs": [],
   "metadata": {}
  }
 ],
 "metadata": {
  "orig_nbformat": 4,
  "language_info": {
   "name": "python",
   "version": "3.9.4",
   "mimetype": "text/x-python",
   "codemirror_mode": {
    "name": "ipython",
    "version": 3
   },
   "pygments_lexer": "ipython3",
   "nbconvert_exporter": "python",
   "file_extension": ".py"
  },
  "kernelspec": {
   "name": "python3",
   "display_name": "Python 3.9.4 64-bit"
  },
  "interpreter": {
   "hash": "cfaa36bee6b23c52625142bf31ea28c3ad7325c971be2e267544e946147027d6"
  }
 },
 "nbformat": 4,
 "nbformat_minor": 2
}