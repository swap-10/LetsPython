{
 "cells": [
  {
   "cell_type": "markdown",
   "source": [
    "<h1>Reading and writing files</h1>"
   ],
   "metadata": {}
  },
  {
   "cell_type": "markdown",
   "source": [
    "<div style=\"font-size: 15px\">\r\n",
    "<code>open()</code> returns a file object and is most commonly used with two<br>\r\n",
    "arguments: <code>open(filename, mode)</code>\r\n",
    "<code>\r\n",
    "<blockquote>\r\n",
    "f = open('workflow', 'w')\r\n",
    "</blockquote>\r\n",
    "</code>\r\n",
    "The first argument is a string containing the filename. The second argument<br>\r\n",
    "is another string containing a few characters describing the way in which<br>\r\n",
    "the file will be used. mode can be<br>\r\n",
    "<ul>\r\n",
    "<li>'r' when the file will only be read</li><br>\r\n",
    "<li>'w' for only writing (an existing file with the same name will be erased)</li><br>\r\n",
    "<li>'a' opens the file for appending; any data written to the file is<br>\r\n",
    "automatically added to the end.</li><br>\r\n",
    "<li>'r+' opens the file for both reading and writing.</li><br>\r\n",
    "</ul>\r\n",
    "The mode argument is optional; 'r' will be assumed if it’s omitted.<br>\r\n",
    "<br>\r\n",
    "\r\n",
    "Normally, files are opened in text mode, that means, you read and write<br>\r\n",
    "strings from and to the file, which are encoded in a specific encoding.<br>\r\n",
    "If encoding is not specified, the default is platform dependent.<br>\r\n",
    "'b' appended to the mode opens the file in binary mode: now the data is<br>\r\n",
    "read and written in the form of bytes objects. This mode should be used<br>\r\n",
    "for all files that don’t contain text.<br>\r\n",
    "<br>\r\n",
    "In text mode, the default when reading is to convert platform-specific<br>\r\n",
    "line endings (\\n on Unix, \\r\\n on Windows) to just \\n. When writing in<br>\r\n",
    "text mode, the default is to convert occurrences of \\n back to<br>\r\n",
    "platform-specific line endings. This behind-the-scenes modification to<br>\r\n",
    "file data is fine for text files, but will corrupt binary data like that<br>\r\n",
    "in JPEG or EXE files. Be very careful to use binary mode when reading<br>\r\n",
    "and writing such files.<br>\r\n",
    "<br>\r\n",
    "It is good practice to use the <code>with</code> keyword when dealing with<br>\r\n",
    "file objects. The advantage is that the file is properly closed after its<br>\r\n",
    "suite finishes, even if an exception is raised at some point. Using<br>\r\n",
    "<code>with</code> is also much shorter than writing equivalent<br>\r\n",
    "<code>try-finally</code> blocks:\r\n",
    "<br>\r\n",
    "</div>"
   ],
   "metadata": {}
  },
  {
   "cell_type": "code",
   "execution_count": null,
   "source": [
    "f = open('workfile', 'w')\r\n",
    "with open('workfile') as f:\r\n",
    "    read_data = f.read()\r\n",
    "\r\n",
    "print(f.closed) # Checking whether it has been closed\r\n",
    "\r\n",
    "# If you're not using 'with' keyword, then you should immediately call\r\n",
    "# f.close() to close the file and immediately free up any system resources\r\n",
    "# used by it\r\n",
    "\r\n",
    "# After a file object has been closed, either by a with statement or by calling\r\n",
    "# f.close(), attempts to use the file object will automatically fail\r\n",
    "\r\n",
    "f.read()"
   ],
   "outputs": [],
   "metadata": {}
  },
  {
   "cell_type": "markdown",
   "source": [
    "<div style=\"font-size: 15px\">\r\n",
    "<blockquote>\r\n",
    "Warning:\r\n",
    "Calling f.write() without using the with keyword or calling f.close()<br>\r\n",
    "might result in the arguments of f.write() not being completely written to<br>\r\n",
    "the disk, even if the program exits successfully.\r\n",
    "</blockquote>\r\n",
    "</div> "
   ],
   "metadata": {}
  },
  {
   "cell_type": "markdown",
   "source": [
    "<h2>Methods of file objects</h2>"
   ],
   "metadata": {}
  },
  {
   "cell_type": "markdown",
   "source": [
    "<div style=\"font-size: 15px\">\r\n",
    "To read a file’s contents, call f.read(size), which reads some quantity of data<br>\r\n",
    "and returns it as a string (in text mode) or bytes object (in binary mode).<br>\r\n",
    "size is an optional numeric argument. When size is omitted or negative, the<br>\r\n",
    "entire contents of the file will be read and returned; it’s your problem if<br>\r\n",
    "the file is twice as large as your machine’s memory. Otherwise, at most size<br>\r\n",
    "characters (in text mode) or size bytes (in binary mode) are read and returned.<br>\r\n",
    "If the end of the file has been reached, f.read() will return an empty string ('').\r\n",
    "</div> "
   ],
   "metadata": {}
  },
  {
   "cell_type": "code",
   "execution_count": 15,
   "source": [
    "with open('workfile', 'w') as f:\r\n",
    "    f.write(\"This is the entire file\\n\")\r\n",
    "f = open('workfile')\r\n",
    "print(f.read())\r\n",
    "f.read()  # Using the print method performs some formatting\r\n",
    "# Using print removes single qutes around the string and the string itself is\r\n",
    "# printed. This would mean the empty quotes wouldn't be visible\r\n"
   ],
   "outputs": [
    {
     "output_type": "stream",
     "name": "stdout",
     "text": [
      "This is the entire file\n",
      "\n"
     ]
    }
   ],
   "metadata": {}
  },
  {
   "cell_type": "code",
   "execution_count": 43,
   "source": [
    "f.close()\r\n",
    "with open('workfile', 'w') as f:\r\n",
    "    f.write(\"This is the first line\\n\")\r\n",
    "    f.write(\"This is the second line\\n\")\r\n",
    "\r\n",
    "# note that opening the file again in write mode will erase the previous\r\n",
    "# contents of the file\r\n",
    "\r\n",
    "f = open('workfile')\r\n",
    "print(f.readline())\r\n",
    "f.readline()\r\n"
   ],
   "outputs": [
    {
     "output_type": "stream",
     "name": "stdout",
     "text": [
      "This is the first line\n",
      "\n"
     ]
    },
    {
     "output_type": "execute_result",
     "data": {
      "text/plain": [
       "'This is the second line\\n'"
      ]
     },
     "metadata": {},
     "execution_count": 43
    }
   ],
   "metadata": {}
  },
  {
   "cell_type": "code",
   "execution_count": 87,
   "source": [
    "f.close()"
   ],
   "outputs": [],
   "metadata": {}
  },
  {
   "cell_type": "code",
   "execution_count": 92,
   "source": [
    "# For reading lines from a file, you can loop over the file object.\r\n",
    "# This is memory efficient, fast, and leads to simple code:\r\n",
    "f = open('workfile', 'r+')\r\n",
    "for line in f:\r\n",
    "    print(line, end='')\r\n",
    "\r\n",
    "# To read all the lines, list(f) or f.readlines() can also be used\r\n",
    "# (notice f.readlines() and not f.readline() here)\r\n",
    "\r\n",
    "# f.write(string) writes the contents of string to the file, returning the\r\n",
    "# number of characters written.\r\n",
    "\r\n",
    "print(f.write('This is a test\\n')) # Will print the num of characters written\r\n",
    "f.close()\r\n",
    "\r\n",
    "# other types of objects need to be converted before writing them\r\n",
    "val = ('The Answer to the Ultimate Question', 42)\r\n",
    "s = str(val)\r\n",
    "with open('workfile', 'a') as f:\r\n",
    "    f.write(s)\r\n",
    "\r\n",
    "\r\n",
    "\r\n",
    "f = open('workfile', 'w')\r\n",
    "f.close()\r\n",
    "\r\n",
    "\r\n",
    "# f.tell() returns an integer giving the file object’s current position\r\n",
    "# in the file represented as number of bytes from the beginning of the\r\n",
    "# file when in binary mode and an opaque number when in text mode.\r\n",
    "\r\n",
    "# To change the file object’s position, use f.seek(offset, whence).\r\n",
    "# The position is computed from adding offset to a reference point; the\r\n",
    "# reference point is selected by the whence argument. A whence value of\r\n",
    "# 0 measures from the beginning of the file, 1 uses the current file position,\r\n",
    "# and 2 uses the end of the file as the reference point. whence can be omitted\r\n",
    "# and defaults to 0\r\n",
    "\r\n",
    "print(\"Seek and read:\")\r\n",
    "\r\n",
    "with open('workfile', 'rb+') as f:\r\n",
    "    f.write(b'0123456789abcdef')\r\n",
    "    print(f.seek(5))  # Got to 6th byte\r\n",
    "    print(f.read(1))\r\n",
    "    print(f.seek(-3,2))  # Go to 3rd byte from end (2 means end of file)\r\n",
    "    f.read(1)  # Remember, argument of read() specifies size\r\n",
    "\r\n",
    "f = open('workfile', 'w')\r\n",
    "f.close()\r\n",
    "\r\n",
    "\"\"\"\r\n",
    "In text files, seeks only relative to the beginning of the file are allowed.\r\n",
    "An exception is seeking to the very end of the file seek(0,2).\r\n",
    "The only valid offset values are those returned from f.tell() or zero\r\n",
    "\"\"\"\r\n"
   ],
   "outputs": [
    {
     "output_type": "stream",
     "name": "stdout",
     "text": [
      "15\n",
      "Seek and read:\n",
      "5\n",
      "b'5'\n",
      "13\n"
     ]
    }
   ],
   "metadata": {}
  },
  {
   "cell_type": "markdown",
   "source": [
    "<h2>Saving structured data with json</h2>"
   ],
   "metadata": {}
  },
  {
   "cell_type": "code",
   "execution_count": 93,
   "source": [
    "# If you have a object x, you can view its JSON string representation\r\n",
    "# with a simple line of code:\r\n",
    "\r\n",
    "import json\r\n",
    "json.dumps([1, 'simple', 'list'])"
   ],
   "outputs": [
    {
     "output_type": "execute_result",
     "data": {
      "text/plain": [
       "'[1, \"simple\", \"list\"]'"
      ]
     },
     "metadata": {},
     "execution_count": 93
    }
   ],
   "metadata": {}
  },
  {
   "cell_type": "code",
   "execution_count": 98,
   "source": [
    "# Another variant of the dumps() function, called dump(), simply serializes\r\n",
    "# the object to a text file. So if 'f' is a text file object opened for\r\n",
    "# writing, we can do:\r\n",
    "x=[1, 'simple', 'list']\r\n",
    "with open('jsontest', 'w') as f:\r\n",
    "    json.dump(x,f)\r\n",
    "# To decode the object again, open file for reading\r\n",
    "with open('jsontest', 'r') as f:\r\n",
    "    y = json.load(f)\r\n",
    "print(\"y is :\")\r\n",
    "y\r\n",
    "\r\n",
    "# serializing arbitrary class instances in JSON requires a bit of extra\r\n",
    "# effort."
   ],
   "outputs": [
    {
     "output_type": "stream",
     "name": "stdout",
     "text": [
      "y is :\n"
     ]
    },
    {
     "output_type": "execute_result",
     "data": {
      "text/plain": [
       "[1, 'simple', 'list']"
      ]
     },
     "metadata": {},
     "execution_count": 98
    }
   ],
   "metadata": {}
  }
 ],
 "metadata": {
  "orig_nbformat": 4,
  "language_info": {
   "name": "python",
   "version": "3.9.4",
   "mimetype": "text/x-python",
   "codemirror_mode": {
    "name": "ipython",
    "version": 3
   },
   "pygments_lexer": "ipython3",
   "nbconvert_exporter": "python",
   "file_extension": ".py"
  },
  "kernelspec": {
   "name": "python3",
   "display_name": "Python 3.9.4 64-bit"
  },
  "interpreter": {
   "hash": "cfaa36bee6b23c52625142bf31ea28c3ad7325c971be2e267544e946147027d6"
  }
 },
 "nbformat": 4,
 "nbformat_minor": 2
}